{
 "cells": [
  {
   "cell_type": "markdown",
   "id": "e5531da0",
   "metadata": {},
   "source": [
    "# Classification of cogntive performance"
   ]
  },
  {
   "cell_type": "code",
   "execution_count": 1,
   "id": "1da80905",
   "metadata": {},
   "outputs": [],
   "source": [
    "import pandas as pd\n",
    "import numpy as np\n",
    "import glob\n",
    "\n",
    "import matplotlib.pyplot as plt\n",
    "from matplotlib.dates import WeekdayLocator\n",
    "import plotly.express as px\n",
    "import seaborn as sns\n",
    "\n",
    "from sklearn import metrics, svm\n",
    "from sklearn.model_selection import train_test_split, LeaveOneOut, cross_val_score\n",
    "\n",
    "import warnings\n",
    "warnings.filterwarnings('ignore')\n",
    "\n",
    "work_dir = '/Users/mcmahonmc/Github/machine-learning-2021/final_project/'\n",
    "data_dir = work_dir + 'data/'\n",
    "results_dir = work_dir + 'results/24hrday_ncomponents/'"
   ]
  },
  {
   "cell_type": "markdown",
   "id": "caa8dea6",
   "metadata": {},
   "source": [
    "## Load data"
   ]
  },
  {
   "cell_type": "code",
   "execution_count": 2,
   "id": "ca94b619",
   "metadata": {},
   "outputs": [
    {
     "name": "stdout",
     "output_type": "stream",
     "text": [
      "actigraphy df\n",
      "(24, 121)\n",
      "targets\n",
      "(112, 279)\n"
     ]
    }
   ],
   "source": [
    "actdf = pd.read_csv(data_dir + 'actigraphy_data_24hrday_df.csv').drop(['40768', '30242', '30412', '30433'], axis=1)\n",
    "print('actigraphy df')\n",
    "print(actdf.shape)\n",
    "\n",
    "targets = pd.read_csv(data_dir + 'target_data.csv')\n",
    "targets = targets.set_index('subject').drop([40768, 30242, 30412, 30433])\n",
    "print('targets')\n",
    "print(targets.shape)\n",
    "\n",
    "targets[:5]\n",
    "\n",
    "manifold_2D_pca = pd.read_csv(results_dir + 'pca.csv')\n",
    "manifold_2D_iso = pd.read_csv(results_dir + 'isomap.csv')\n",
    "manifold_2D_lle = pd.read_csv(results_dir + 'lle.csv')\n",
    "\n",
    "manifold_2D_pca_n = pd.read_csv(results_dir + 'pca_random.csv')\n",
    "manifold_2D_iso_n = pd.read_csv(results_dir + 'isomap_random.csv')\n",
    "manifold_2D_lle_n = pd.read_csv(results_dir + 'lle_random.csv')"
   ]
  },
  {
   "cell_type": "code",
   "execution_count": 3,
   "id": "00987900",
   "metadata": {},
   "outputs": [
    {
     "data": {
      "text/html": [
       "<div>\n",
       "<style scoped>\n",
       "    .dataframe tbody tr th:only-of-type {\n",
       "        vertical-align: middle;\n",
       "    }\n",
       "\n",
       "    .dataframe tbody tr th {\n",
       "        vertical-align: top;\n",
       "    }\n",
       "\n",
       "    .dataframe thead th {\n",
       "        text-align: right;\n",
       "    }\n",
       "</style>\n",
       "<table border=\"1\" class=\"dataframe\">\n",
       "  <thead>\n",
       "    <tr style=\"text-align: right;\">\n",
       "      <th></th>\n",
       "      <th>Component 1</th>\n",
       "      <th>Component 2</th>\n",
       "      <th>Component 3</th>\n",
       "    </tr>\n",
       "  </thead>\n",
       "  <tbody>\n",
       "    <tr>\n",
       "      <th>0</th>\n",
       "      <td>0.168038</td>\n",
       "      <td>-0.198988</td>\n",
       "      <td>-0.112640</td>\n",
       "    </tr>\n",
       "    <tr>\n",
       "      <th>1</th>\n",
       "      <td>0.020272</td>\n",
       "      <td>0.116818</td>\n",
       "      <td>-0.164727</td>\n",
       "    </tr>\n",
       "    <tr>\n",
       "      <th>2</th>\n",
       "      <td>0.975086</td>\n",
       "      <td>-0.306216</td>\n",
       "      <td>0.099980</td>\n",
       "    </tr>\n",
       "    <tr>\n",
       "      <th>3</th>\n",
       "      <td>0.820116</td>\n",
       "      <td>-0.199341</td>\n",
       "      <td>-0.185912</td>\n",
       "    </tr>\n",
       "    <tr>\n",
       "      <th>4</th>\n",
       "      <td>0.159610</td>\n",
       "      <td>-0.287852</td>\n",
       "      <td>0.025626</td>\n",
       "    </tr>\n",
       "  </tbody>\n",
       "</table>\n",
       "</div>"
      ],
      "text/plain": [
       "   Component 1  Component 2  Component 3\n",
       "0     0.168038    -0.198988    -0.112640\n",
       "1     0.020272     0.116818    -0.164727\n",
       "2     0.975086    -0.306216     0.099980\n",
       "3     0.820116    -0.199341    -0.185912\n",
       "4     0.159610    -0.287852     0.025626"
      ]
     },
     "execution_count": 3,
     "metadata": {},
     "output_type": "execute_result"
    }
   ],
   "source": [
    "manifold_2D_pca.head()"
   ]
  },
  {
   "cell_type": "code",
   "execution_count": 5,
   "id": "549a99ff",
   "metadata": {},
   "outputs": [
    {
     "data": {
      "text/plain": [
       "(112, 3)"
      ]
     },
     "execution_count": 5,
     "metadata": {},
     "output_type": "execute_result"
    }
   ],
   "source": [
    "manifold_2D_pca.shape"
   ]
  },
  {
   "cell_type": "code",
   "execution_count": 4,
   "id": "60c6698e",
   "metadata": {},
   "outputs": [
    {
     "name": "stdout",
     "output_type": "stream",
     "text": [
      "(21, 112)\n",
      "(112, 279)\n"
     ]
    }
   ],
   "source": [
    "drop_subs = [ subject for subject in actdf.columns if int(subject) not in targets.index.values ]\n",
    "drop_subs_idx = [ actdf.columns.get_loc(subject) for subject in actdf.columns if int(subject) not in targets.index.values ]\n",
    "\n",
    "actdf = actdf.drop(drop_subs, axis=1)[:-3]\n",
    "targets = targets\n",
    "\n",
    "print(actdf.shape)\n",
    "print(targets.shape)"
   ]
  },
  {
   "cell_type": "markdown",
   "id": "cc4ba8ad",
   "metadata": {},
   "source": [
    "## Correlations\n",
    "\n",
    "MAE: Average absolute error between the model prediction and the actual observed data. <br>\n",
    "RMSE: Lower the RMSE, the more closely a model is able to predict the actual observations."
   ]
  },
  {
   "cell_type": "code",
   "execution_count": 44,
   "id": "6535f681",
   "metadata": {},
   "outputs": [],
   "source": [
    "targets = targets.reset_index()"
   ]
  },
  {
   "cell_type": "code",
   "execution_count": 45,
   "id": "a2a16092",
   "metadata": {
    "scrolled": true
   },
   "outputs": [
    {
     "data": {
      "text/plain": [
       "[Text(0.5, 1.0, 'PCA Component Correlations with Cognitive Measures')]"
      ]
     },
     "execution_count": 45,
     "metadata": {},
     "output_type": "execute_result"
    },
    {
     "data": {
      "image/png": "[encoded data removed]",
      "text/plain": [
       "<Figure size 432x288 with 2 Axes>"
      ]
     },
     "metadata": {
      "needs_background": "light"
     },
     "output_type": "display_data"
    }
   ],
   "source": [
    "corr = manifold_2D_pca.join(targets[[col for col in targets.columns if 'z_score' in col] +\n",
    "                                   [col for col in targets.columns if 'zscore' in col] + ['pvt_rt_mean', 'pvt_fs']].reset_index().drop(['cvlt_ldelay_cue_recall_zscore',\n",
    "       'cvlt_recognition_hits_zscore', 'cvlt_recognition_fp_zscore', \n",
    "                               'cvlt_sdelay_cued_zscore', 'index'], axis=1)).corr()\n",
    "mask = np.triu(np.ones_like(corr, dtype=bool))\n",
    "cmap = sns.diverging_palette(230, 20, as_cmap=True)\n",
    "sns.heatmap(corr[np.abs(corr) > .2], mask=mask, cmap=cmap, vmax=.3, center=0,\n",
    "            square=True, linewidths=.5, cbar_kws={\"shrink\": .5}).set(title = 'PCA Component Correlations with Cognitive Measures')"
   ]
  },
  {
   "cell_type": "code",
   "execution_count": 46,
   "id": "97c3fce2",
   "metadata": {
    "scrolled": true
   },
   "outputs": [
    {
     "data": {
      "text/plain": [
       "[Text(0.5, 1.0, 'Isomap Component Correlations with Cognitive Measures')]"
      ]
     },
     "execution_count": 46,
     "metadata": {},
     "output_type": "execute_result"
    },
    {
     "data": {
      "image/png": "[encoded data removed]",
      "text/plain": [
       "<Figure size 432x288 with 2 Axes>"
      ]
     },
     "metadata": {
      "needs_background": "light"
     },
     "output_type": "display_data"
    }
   ],
   "source": [
    "corr = manifold_2D_iso.join(targets[[col for col in targets.columns if 'z_score' in col] +\n",
    "                                   [col for col in targets.columns if 'zscore' in col] + ['pvt_rt_mean', 'pvt_fs']].reset_index().drop(['cvlt_ldelay_cue_recall_zscore',\n",
    "       'cvlt_recognition_hits_zscore', 'cvlt_recognition_fp_zscore', \n",
    "                               'cvlt_sdelay_cued_zscore', 'index'], axis=1)).corr()\n",
    "mask = np.triu(np.ones_like(corr, dtype=bool))\n",
    "cmap = sns.diverging_palette(230, 20, as_cmap=True)\n",
    "sns.heatmap(corr[np.abs(corr) > .2], mask=mask, cmap=cmap, vmax=.3, center=0,\n",
    "            square=True, linewidths=.5, cbar_kws={\"shrink\": .5}).set(title = 'Isomap Component Correlations with Cognitive Measures')"
   ]
  },
  {
   "cell_type": "code",
   "execution_count": 47,
   "id": "01c1ed12",
   "metadata": {
    "scrolled": true
   },
   "outputs": [
    {
     "data": {
      "text/plain": [
       "[Text(0.5, 1.0, 'LLE Component Correlations with Cognitive Measures')]"
      ]
     },
     "execution_count": 47,
     "metadata": {},
     "output_type": "execute_result"
    },
    {
     "data": {
      "image/png": "[encoded data removed]",
      "text/plain": [
       "<Figure size 432x288 with 2 Axes>"
      ]
     },
     "metadata": {
      "needs_background": "light"
     },
     "output_type": "display_data"
    }
   ],
   "source": [
    "corr = manifold_2D_lle.join(targets[[col for col in targets.columns if 'z_score' in col] +\n",
    "                                   [col for col in targets.columns if 'zscore' in col] + ['pvt_rt_mean', 'pvt_fs']].reset_index().drop(['cvlt_ldelay_cue_recall_zscore',\n",
    "       'cvlt_recognition_hits_zscore', 'cvlt_recognition_fp_zscore', \n",
    "                               'cvlt_sdelay_cued_zscore', 'index'], axis=1)).corr()\n",
    "mask = np.triu(np.ones_like(corr, dtype=bool))\n",
    "cmap = sns.diverging_palette(230, 20, as_cmap=True)\n",
    "sns.heatmap(corr[np.abs(corr) > .2], mask=mask, cmap=cmap, vmax=.3, center=0,\n",
    "            square=True, linewidths=.5, cbar_kws={\"shrink\": .5}).set(title = 'LLE Component Correlations with Cognitive Measures')"
   ]
  },
  {
   "cell_type": "markdown",
   "id": "7a055e62",
   "metadata": {},
   "source": [
    "# SVM\n",
    "\n",
    "[Datacamp](https://www.datacamp.com/community/tutorials/svm-classification-scikit-learn-python)"
   ]
  },
  {
   "cell_type": "code",
   "execution_count": 50,
   "id": "e2266209",
   "metadata": {},
   "outputs": [],
   "source": [
    "import os\n",
    "results_dir = os.getcwd() + '/results/'\n",
    "\n",
    "manifold_2D_pca = manifold_2D_pca.reset_index(drop=True)\n",
    "manifold_2D_iso = manifold_2D_iso.reset_index(drop=True)\n",
    "manifold_2D_lle = manifold_2D_lle.reset_index(drop=True)\n",
    "\n",
    "df = targets[[col for col in targets.columns if 'z_score' in col] + \n",
    "                [col for col in targets.columns if 'zscore' in col] + ['pvt_rt_mean', 'pvt_fs'] +\n",
    "               ['group']].drop('trails_b_z_score_y', axis=1)\n",
    "\n",
    "# lthresh = 0\n",
    "# uthresh = 0\n",
    "\n",
    "reduction_methods = ['pca', 'iso', 'lle']\n",
    "n_splits=2\n",
    "test_n = 0.3\n",
    "\n",
    "kernel_methods = ['linear', 'poly', 'sigmoid', 'rbf']"
   ]
  },
  {
   "cell_type": "code",
   "execution_count": 51,
   "id": "59c96f67",
   "metadata": {},
   "outputs": [
    {
     "name": "stdout",
     "output_type": "stream",
     "text": [
      "trails_a_z_score\n"
     ]
    },
    {
     "data": {
      "image/png": "[encoded data removed]",
      "text/plain": [
       "<Figure size 432x288 with 1 Axes>"
      ]
     },
     "metadata": {
      "needs_background": "light"
     },
     "output_type": "display_data"
    },
    {
     "name": "stdout",
     "output_type": "stream",
     "text": [
      "cvlt_b_zscore\n"
     ]
    },
    {
     "data": {
      "image/png": "[encoded data removed]",
      "text/plain": [
       "<Figure size 432x288 with 1 Axes>"
      ]
     },
     "metadata": {
      "needs_background": "light"
     },
     "output_type": "display_data"
    },
    {
     "name": "stdout",
     "output_type": "stream",
     "text": [
      "cvlt_sdelay_recall_zscore\n"
     ]
    },
    {
     "data": {
      "image/png": "[encoded data removed]",
      "text/plain": [
       "<Figure size 432x288 with 1 Axes>"
      ]
     },
     "metadata": {
      "needs_background": "light"
     },
     "output_type": "display_data"
    },
    {
     "name": "stdout",
     "output_type": "stream",
     "text": [
      "cvlt_sdelay_cued_zscore\n"
     ]
    },
    {
     "data": {
      "image/png": "[encoded data removed]",
      "text/plain": [
       "<Figure size 432x288 with 1 Axes>"
      ]
     },
     "metadata": {
      "needs_background": "light"
     },
     "output_type": "display_data"
    },
    {
     "name": "stdout",
     "output_type": "stream",
     "text": [
      "cvlt_ldelay_recall_zscore\n"
     ]
    },
    {
     "data": {
      "image/png": "[encoded data removed]",
      "text/plain": [
       "<Figure size 432x288 with 1 Axes>"
      ]
     },
     "metadata": {
      "needs_background": "light"
     },
     "output_type": "display_data"
    },
    {
     "name": "stdout",
     "output_type": "stream",
     "text": [
      "cvlt_ldelay_cue_recall_zscore\n"
     ]
    },
    {
     "data": {
      "image/png": "[encoded data removed]",
      "text/plain": [
       "<Figure size 432x288 with 1 Axes>"
      ]
     },
     "metadata": {
      "needs_background": "light"
     },
     "output_type": "display_data"
    },
    {
     "name": "stdout",
     "output_type": "stream",
     "text": [
      "cvlt_recognition_hits_zscore\n"
     ]
    },
    {
     "data": {
      "image/png": "[encoded data removed]",
      "text/plain": [
       "<Figure size 432x288 with 1 Axes>"
      ]
     },
     "metadata": {
      "needs_background": "light"
     },
     "output_type": "display_data"
    },
    {
     "name": "stdout",
     "output_type": "stream",
     "text": [
      "cvlt_recognition_fp_zscore\n"
     ]
    },
    {
     "data": {
      "image/png": "[encoded data removed]",
      "text/plain": [
       "<Figure size 432x288 with 1 Axes>"
      ]
     },
     "metadata": {
      "needs_background": "light"
     },
     "output_type": "display_data"
    },
    {
     "name": "stdout",
     "output_type": "stream",
     "text": [
      "cvlt_zscore\n"
     ]
    },
    {
     "data": {
      "image/png": "[encoded data removed]",
      "text/plain": [
       "<Figure size 432x288 with 1 Axes>"
      ]
     },
     "metadata": {
      "needs_background": "light"
     },
     "output_type": "display_data"
    },
    {
     "name": "stdout",
     "output_type": "stream",
     "text": [
      "vc_zscore\n"
     ]
    },
    {
     "data": {
      "image/png": "[encoded data removed]",
      "text/plain": [
       "<Figure size 432x288 with 1 Axes>"
      ]
     },
     "metadata": {
      "needs_background": "light"
     },
     "output_type": "display_data"
    },
    {
     "name": "stdout",
     "output_type": "stream",
     "text": [
      "ds_zscore\n"
     ]
    },
    {
     "data": {
      "image/png": "[encoded data removed]",
      "text/plain": [
       "<Figure size 432x288 with 1 Axes>"
      ]
     },
     "metadata": {
      "needs_background": "light"
     },
     "output_type": "display_data"
    },
    {
     "name": "stdout",
     "output_type": "stream",
     "text": [
      "stoop_i_zscore\n"
     ]
    },
    {
     "data": {
      "image/png": "[encoded data removed]",
      "text/plain": [
       "<Figure size 432x288 with 1 Axes>"
      ]
     },
     "metadata": {
      "needs_background": "light"
     },
     "output_type": "display_data"
    },
    {
     "name": "stdout",
     "output_type": "stream",
     "text": [
      "cowat_zscore\n"
     ]
    },
    {
     "data": {
      "image/png": "[encoded data removed]",
      "text/plain": [
       "<Figure size 432x288 with 1 Axes>"
      ]
     },
     "metadata": {
      "needs_background": "light"
     },
     "output_type": "display_data"
    },
    {
     "name": "stdout",
     "output_type": "stream",
     "text": [
      "trails_b_z_score_x\n"
     ]
    },
    {
     "data": {
      "image/png": "[encoded data removed]",
      "text/plain": [
       "<Figure size 432x288 with 1 Axes>"
      ]
     },
     "metadata": {
      "needs_background": "light"
     },
     "output_type": "display_data"
    }
   ],
   "source": [
    "for y in df[[col for col in df.columns if col.endswith('score')] + ['trails_b_z_score_x']]:\n",
    "    print(y)\n",
    "    \n",
    "    uthresh = .5 #np.percentile(df[y].dropna(), 67)\n",
    "    lthresh = -.5 #np.percentile(df[y].dropna(), 33)\n",
    "    \n",
    "    df[y + '_bin'] = np.nan\n",
    "    df[y + '_bin'] = np.where(df[y] >= uthresh, \"High\", np.nan)\n",
    "    df[y + '_bin'] = np.where(df[y] < lthresh, \"Low\",  df[y + '_bin'] )\n",
    "    \n",
    "#     na_idx = np.where(y.isnull())[0]\n",
    "    \n",
    "#     # plot binarized target measures\n",
    "    sns.boxplot(x = df[y + '_bin'],\n",
    "                y = df[y], palette='Set1', order = ['Low', 'High']).set(title='Low n = %d, High n = %d' % \n",
    "                                                                        (len(df[y + '_bin'][df[y + '_bin'] == 'Low']),\n",
    "                                                                        (len(df[y + '_bin'][df[y + '_bin'] == 'High']))))\n",
    "    plt.show()\n",
    "#     plt.savefig('%s/%s_bin_split.png' % (results_dir, str(outcome)), \n",
    "#                 dpi=300, bbox_inches='tight', facecolor='w')\n",
    "    plt.close()\n",
    "       "
   ]
  },
  {
   "cell_type": "code",
   "execution_count": 52,
   "id": "6f795a7c",
   "metadata": {},
   "outputs": [
    {
     "name": "stdout",
     "output_type": "stream",
     "text": [
      "pvt_rt_mean\n"
     ]
    },
    {
     "data": {
      "image/png": "[encoded data removed]",
      "text/plain": [
       "<Figure size 432x288 with 1 Axes>"
      ]
     },
     "metadata": {
      "needs_background": "light"
     },
     "output_type": "display_data"
    },
    {
     "name": "stdout",
     "output_type": "stream",
     "text": [
      "pvt_fs\n"
     ]
    },
    {
     "data": {
      "image/png": "[encoded data removed]",
      "text/plain": [
       "<Figure size 432x288 with 1 Axes>"
      ]
     },
     "metadata": {
      "needs_background": "light"
     },
     "output_type": "display_data"
    }
   ],
   "source": [
    "for y in df[['pvt_rt_mean', 'pvt_fs']]:\n",
    "    print(y)\n",
    "    \n",
    "    uthresh = np.percentile(df[y].dropna(), 70)\n",
    "    lthresh = np.percentile(df[y].dropna(), 32)\n",
    "    \n",
    "    df[y + '_bin'] = np.nan\n",
    "    df[y + '_bin'] = np.where(df[y] >= uthresh, \"High\", np.nan)\n",
    "    df[y + '_bin'] = np.where(df[y] < lthresh, \"Low\",  df[y + '_bin'] )\n",
    "    \n",
    "#     na_idx = np.where(y.isnull())[0]\n",
    "    \n",
    "#     # plot binarized target measures\n",
    "    sns.boxplot(x = df[y + '_bin'],\n",
    "                y = df[y], palette='Set1', order = ['Low', 'High']).set(title='Low n = %d, High n = %d' % \n",
    "                                                                        (len(df[y + '_bin'][df[y + '_bin'] == 'Low']),\n",
    "                                                                        (len(df[y + '_bin'][df[y + '_bin'] == 'High']))))\n",
    "    plt.show()\n",
    "#     plt.savefig('%s/%s_bin_split.png' % (results_dir, str(outcome)), \n",
    "#                 dpi=300, bbox_inches='tight', facecolor='w')\n",
    "    plt.close()\n",
    "       "
   ]
  },
  {
   "cell_type": "code",
   "execution_count": 53,
   "id": "9c9adc8b",
   "metadata": {},
   "outputs": [],
   "source": [
    "def bootstrap_svm(X, y_true, target_label, n_size, n_iterations, kernel_methods):\n",
    "    import sys\n",
    "    \n",
    "    results = pd.DataFrame()\n",
    "    cis = []\n",
    "    \n",
    "    try:\n",
    "        \n",
    "        for kernel_method in kernel_methods:\n",
    "            \n",
    "            stats = pd.DataFrame()\n",
    "            for i in range(n_iterations):\n",
    "                X_train, X_test, y_train, y_test = train_test_split(X, y_true, \n",
    "                                                                    test_size=n_size, \n",
    "                                                                    shuffle=True, \n",
    "                                                                    stratify=y_true)\n",
    "                \n",
    "                # fit model\n",
    "                model = svm.SVC(kernel=kernel_method)\n",
    "                model = model.fit(X_train, y_train) \n",
    "                \n",
    "                \n",
    "                # evaluate model\n",
    "                y_pred = model.predict(X_test)\n",
    "                stats = stats.append({'Accuracy': metrics.accuracy_score(y_test, y_pred),\n",
    "                                     'Precision': metrics.precision_score(y_test, y_pred, average='weighted'),\n",
    "                                     'Recall': metrics.recall_score(y_test, y_pred, average='weighted')},\n",
    "                                     ignore_index=True)\n",
    "            \n",
    "            cis = stats.apply(lambda x: np.around(np.percentile(x,[2.5,97.5]), decimals=3))\n",
    "            \n",
    "            result_dict = {'target': target_label,\n",
    "                    'total_sample_size':int(X.shape[0]),\n",
    "                    'train_sample_size': int(X.shape[0] * (1-n_size)),\n",
    "                    'test_sample_size': int(X.shape[0] * n_size),\n",
    "                           'svm_kernel': kernel_method,\n",
    "                           'n_iterations': int(n_iterations),\n",
    "                           'svm_accuracy': stats['Accuracy'].dropna().mean(),\n",
    "                           'svm_accuracy_ci': cis['Accuracy'].values,\n",
    "                         'svm_precision': stats['Precision'].dropna().mean(), #metrics.precision_score(y_test, y_pred, average='weighted'),\n",
    "                         'svm_precision_ci': cis['Precision'].values,\n",
    "                           'svm_recall': stats['Recall'].dropna().mean(),\n",
    "                           'svm_recall_ci': cis['Recall'].values}\n",
    "\n",
    "            results = results.append(result_dict, ignore_index=True).sort_values('target').reset_index(drop=True)\n",
    "        \n",
    "    except Exception as e:\n",
    "        print(e, \"Error on line {}\".format(sys.exc_info()[-1].tb_lineno))\n",
    "            \n",
    "    return results, stats, cis"
   ]
  },
  {
   "cell_type": "code",
   "execution_count": 54,
   "id": "895fe4df",
   "metadata": {},
   "outputs": [],
   "source": [
    "n_iterations=500\n",
    "n_size = 0.30\n",
    "pd.set_option('display.float_format', '{:.3f}'.format)"
   ]
  },
  {
   "cell_type": "markdown",
   "id": "a05a4d55",
   "metadata": {},
   "source": [
    "## Age Group"
   ]
  },
  {
   "cell_type": "code",
   "execution_count": 55,
   "id": "50f079d9",
   "metadata": {},
   "outputs": [
    {
     "data": {
      "image/png": "[encoded data removed]",
      "text/plain": [
       "<Figure size 432x288 with 1 Axes>"
      ]
     },
     "metadata": {
      "needs_background": "light"
     },
     "output_type": "display_data"
    }
   ],
   "source": [
    "ya_idx, oa_idx = [np.where(targets['group'] == 'Young Adults'),\n",
    "                 np.where(targets['group'] == 'Older Adults')]\n",
    "\n",
    "sns.lineplot(x=range(0,len(x[0])), y=x[ya_idx].mean(axis=0), label='Young Adults')\n",
    "sns.lineplot(x=range(0,len(x[0])), y=x.mean(axis=0), label='Mean')\n",
    "sns.lineplot(x=range(0,len(x[0])), y=x[oa_idx].mean(axis=0), label='Older Adults')\n",
    "\n",
    "plt.legend(loc='upper center')\n",
    "\n",
    "plt.savefig(results_dir + 'ya_oa_activity.png', dpi=300, bbox_inches='tight', facecolor='w')"
   ]
  },
  {
   "cell_type": "code",
   "execution_count": 56,
   "id": "d987fc83",
   "metadata": {},
   "outputs": [
    {
     "data": {
      "text/html": [
       "<div>\n",
       "<style scoped>\n",
       "    .dataframe tbody tr th:only-of-type {\n",
       "        vertical-align: middle;\n",
       "    }\n",
       "\n",
       "    .dataframe tbody tr th {\n",
       "        vertical-align: top;\n",
       "    }\n",
       "\n",
       "    .dataframe thead th {\n",
       "        text-align: right;\n",
       "    }\n",
       "</style>\n",
       "<table border=\"1\" class=\"dataframe\">\n",
       "  <thead>\n",
       "    <tr style=\"text-align: right;\">\n",
       "      <th></th>\n",
       "      <th>total_sample_size</th>\n",
       "      <th>train_sample_size</th>\n",
       "      <th>test_sample_size</th>\n",
       "      <th>svm_kernel</th>\n",
       "      <th>n_iterations</th>\n",
       "      <th>svm_accuracy</th>\n",
       "      <th>svm_accuracy_ci</th>\n",
       "      <th>svm_precision</th>\n",
       "      <th>svm_precision_ci</th>\n",
       "      <th>svm_recall</th>\n",
       "      <th>svm_recall_ci</th>\n",
       "      <th>dim_redx</th>\n",
       "      <th>sil_score</th>\n",
       "    </tr>\n",
       "    <tr>\n",
       "      <th>target</th>\n",
       "      <th></th>\n",
       "      <th></th>\n",
       "      <th></th>\n",
       "      <th></th>\n",
       "      <th></th>\n",
       "      <th></th>\n",
       "      <th></th>\n",
       "      <th></th>\n",
       "      <th></th>\n",
       "      <th></th>\n",
       "      <th></th>\n",
       "      <th></th>\n",
       "      <th></th>\n",
       "    </tr>\n",
       "  </thead>\n",
       "  <tbody>\n",
       "    <tr>\n",
       "      <th>age group</th>\n",
       "      <td>112.000</td>\n",
       "      <td>78.000</td>\n",
       "      <td>33.000</td>\n",
       "      <td>linear</td>\n",
       "      <td>500.000</td>\n",
       "      <td>0.525</td>\n",
       "      <td>[0.353, 0.559]</td>\n",
       "      <td>0.345</td>\n",
       "      <td>[0.303, 0.513]</td>\n",
       "      <td>0.525</td>\n",
       "      <td>[0.353, 0.559]</td>\n",
       "      <td>pca</td>\n",
       "      <td>-0.009</td>\n",
       "    </tr>\n",
       "  </tbody>\n",
       "</table>\n",
       "</div>"
      ],
      "text/plain": [
       "           total_sample_size  train_sample_size  test_sample_size svm_kernel  \\\n",
       "target                                                                         \n",
       "age group            112.000             78.000            33.000     linear   \n",
       "\n",
       "           n_iterations  svm_accuracy svm_accuracy_ci  svm_precision  \\\n",
       "target                                                                 \n",
       "age group       500.000         0.525  [0.353, 0.559]          0.345   \n",
       "\n",
       "          svm_precision_ci  svm_recall   svm_recall_ci dim_redx  sil_score  \n",
       "target                                                                      \n",
       "age group   [0.303, 0.513]       0.525  [0.353, 0.559]      pca     -0.009  "
      ]
     },
     "execution_count": 56,
     "metadata": {},
     "output_type": "execute_result"
    }
   ],
   "source": [
    "results_age = pd.DataFrame()\n",
    "\n",
    "for reduction_method in reduction_methods:\n",
    "    try:\n",
    "        \n",
    "        na_idx = np.where(df['group'] == 'nan')[0]\n",
    "\n",
    "        X = eval('manifold_2D_' + reduction_method + '_n').drop(index=na_idx).values\n",
    "        y_true = df['group'].drop(index=na_idx).values\n",
    "\n",
    "        result, stats, cis = bootstrap_svm(X, y_true, 'age group', n_size, n_iterations, \n",
    "                                           kernel_methods=kernel_methods)\n",
    "        result['dim_redx'] = reduction_method\n",
    "        result['sil_score'] = metrics.silhouette_score(X, y_true, metric='euclidean')\n",
    "        results_age = results_age.append(result)\n",
    "    \n",
    "    except Exception as e:\n",
    "        print(e)\n",
    "\n",
    "sil_idx = results_age.groupby(['target'])['sil_score'].transform(max) == results_age['sil_score']\n",
    "results_age_best = results_age[sil_idx]\n",
    "acc_idx = results_age_best.groupby(['target'])['svm_accuracy'].transform(max) == results_age_best['svm_accuracy']\n",
    "results_age_best = results_age_best[acc_idx].groupby('target').first()\n",
    "results_age_best"
   ]
  },
  {
   "cell_type": "code",
   "execution_count": 57,
   "id": "94986a7a",
   "metadata": {},
   "outputs": [
    {
     "name": "stdout",
     "output_type": "stream",
     "text": [
      "pca\n",
      "The least populated class in y has only 1 member, which is too few. The minimum number of groups for any class cannot be less than 2. Error on line 13\n",
      "iso\n",
      "The least populated class in y has only 1 member, which is too few. The minimum number of groups for any class cannot be less than 2. Error on line 13\n",
      "lle\n",
      "The least populated class in y has only 1 member, which is too few. The minimum number of groups for any class cannot be less than 2. Error on line 13\n"
     ]
    },
    {
     "data": {
      "text/html": [
       "<div>\n",
       "<style scoped>\n",
       "    .dataframe tbody tr th:only-of-type {\n",
       "        vertical-align: middle;\n",
       "    }\n",
       "\n",
       "    .dataframe tbody tr th {\n",
       "        vertical-align: top;\n",
       "    }\n",
       "\n",
       "    .dataframe thead th {\n",
       "        text-align: right;\n",
       "    }\n",
       "</style>\n",
       "<table border=\"1\" class=\"dataframe\">\n",
       "  <thead>\n",
       "    <tr style=\"text-align: right;\">\n",
       "      <th></th>\n",
       "      <th>total_sample_size</th>\n",
       "      <th>train_sample_size</th>\n",
       "      <th>test_sample_size</th>\n",
       "      <th>svm_kernel</th>\n",
       "      <th>n_iterations</th>\n",
       "      <th>svm_accuracy</th>\n",
       "      <th>svm_accuracy_ci</th>\n",
       "      <th>svm_precision</th>\n",
       "      <th>svm_precision_ci</th>\n",
       "      <th>svm_recall</th>\n",
       "      <th>svm_recall_ci</th>\n",
       "      <th>dim_redx</th>\n",
       "      <th>sil_score</th>\n",
       "    </tr>\n",
       "    <tr>\n",
       "      <th>target</th>\n",
       "      <th></th>\n",
       "      <th></th>\n",
       "      <th></th>\n",
       "      <th></th>\n",
       "      <th></th>\n",
       "      <th></th>\n",
       "      <th></th>\n",
       "      <th></th>\n",
       "      <th></th>\n",
       "      <th></th>\n",
       "      <th></th>\n",
       "      <th></th>\n",
       "      <th></th>\n",
       "    </tr>\n",
       "  </thead>\n",
       "  <tbody>\n",
       "    <tr>\n",
       "      <th>cowat_zscore_bin</th>\n",
       "      <td>33.000</td>\n",
       "      <td>23.000</td>\n",
       "      <td>9.000</td>\n",
       "      <td>rbf</td>\n",
       "      <td>500.000</td>\n",
       "      <td>0.672</td>\n",
       "      <td>[0.4, 0.9]</td>\n",
       "      <td>0.680</td>\n",
       "      <td>[0.333, 0.914]</td>\n",
       "      <td>0.672</td>\n",
       "      <td>[0.4, 0.9]</td>\n",
       "      <td>iso</td>\n",
       "      <td>0.039</td>\n",
       "    </tr>\n",
       "    <tr>\n",
       "      <th>cvlt_b_zscore_bin</th>\n",
       "      <td>30.000</td>\n",
       "      <td>21.000</td>\n",
       "      <td>9.000</td>\n",
       "      <td>linear</td>\n",
       "      <td>500.000</td>\n",
       "      <td>0.594</td>\n",
       "      <td>[0.333, 0.778]</td>\n",
       "      <td>0.600</td>\n",
       "      <td>[0.238, 0.852]</td>\n",
       "      <td>0.594</td>\n",
       "      <td>[0.333, 0.778]</td>\n",
       "      <td>iso</td>\n",
       "      <td>0.029</td>\n",
       "    </tr>\n",
       "    <tr>\n",
       "      <th>cvlt_ldelay_cue_recall_zscore_bin</th>\n",
       "      <td>38.000</td>\n",
       "      <td>26.000</td>\n",
       "      <td>11.000</td>\n",
       "      <td>linear</td>\n",
       "      <td>500.000</td>\n",
       "      <td>0.833</td>\n",
       "      <td>[0.833, 0.833]</td>\n",
       "      <td>0.694</td>\n",
       "      <td>[0.694, 0.694]</td>\n",
       "      <td>0.833</td>\n",
       "      <td>[0.833, 0.833]</td>\n",
       "      <td>iso</td>\n",
       "      <td>-0.056</td>\n",
       "    </tr>\n",
       "    <tr>\n",
       "      <th>cvlt_ldelay_recall_zscore_bin</th>\n",
       "      <td>37.000</td>\n",
       "      <td>25.000</td>\n",
       "      <td>11.000</td>\n",
       "      <td>linear</td>\n",
       "      <td>500.000</td>\n",
       "      <td>0.833</td>\n",
       "      <td>[0.833, 0.833]</td>\n",
       "      <td>0.694</td>\n",
       "      <td>[0.694, 0.694]</td>\n",
       "      <td>0.833</td>\n",
       "      <td>[0.833, 0.833]</td>\n",
       "      <td>pca</td>\n",
       "      <td>0.009</td>\n",
       "    </tr>\n",
       "    <tr>\n",
       "      <th>cvlt_recognition_fp_zscore_bin</th>\n",
       "      <td>40.000</td>\n",
       "      <td>28.000</td>\n",
       "      <td>12.000</td>\n",
       "      <td>linear</td>\n",
       "      <td>500.000</td>\n",
       "      <td>0.665</td>\n",
       "      <td>[0.456, 0.833]</td>\n",
       "      <td>0.681</td>\n",
       "      <td>[0.448, 0.881]</td>\n",
       "      <td>0.665</td>\n",
       "      <td>[0.456, 0.833]</td>\n",
       "      <td>pca</td>\n",
       "      <td>0.057</td>\n",
       "    </tr>\n",
       "    <tr>\n",
       "      <th>cvlt_recognition_hits_zscore_bin</th>\n",
       "      <td>35.000</td>\n",
       "      <td>24.000</td>\n",
       "      <td>10.000</td>\n",
       "      <td>rbf</td>\n",
       "      <td>500.000</td>\n",
       "      <td>0.634</td>\n",
       "      <td>[0.455, 0.727]</td>\n",
       "      <td>0.512</td>\n",
       "      <td>[0.367, 0.809]</td>\n",
       "      <td>0.634</td>\n",
       "      <td>[0.455, 0.727]</td>\n",
       "      <td>pca</td>\n",
       "      <td>0.002</td>\n",
       "    </tr>\n",
       "    <tr>\n",
       "      <th>cvlt_sdelay_cued_zscore_bin</th>\n",
       "      <td>38.000</td>\n",
       "      <td>26.000</td>\n",
       "      <td>11.000</td>\n",
       "      <td>poly</td>\n",
       "      <td>500.000</td>\n",
       "      <td>0.836</td>\n",
       "      <td>[0.833, 0.917]</td>\n",
       "      <td>0.702</td>\n",
       "      <td>[0.694, 0.924]</td>\n",
       "      <td>0.836</td>\n",
       "      <td>[0.833, 0.917]</td>\n",
       "      <td>pca</td>\n",
       "      <td>-0.035</td>\n",
       "    </tr>\n",
       "    <tr>\n",
       "      <th>cvlt_sdelay_recall_zscore_bin</th>\n",
       "      <td>43.000</td>\n",
       "      <td>30.000</td>\n",
       "      <td>12.000</td>\n",
       "      <td>poly</td>\n",
       "      <td>500.000</td>\n",
       "      <td>0.788</td>\n",
       "      <td>[0.692, 0.923]</td>\n",
       "      <td>0.696</td>\n",
       "      <td>[0.577, 0.93]</td>\n",
       "      <td>0.788</td>\n",
       "      <td>[0.692, 0.923]</td>\n",
       "      <td>pca</td>\n",
       "      <td>0.050</td>\n",
       "    </tr>\n",
       "    <tr>\n",
       "      <th>cvlt_zscore_bin</th>\n",
       "      <td>32.000</td>\n",
       "      <td>22.000</td>\n",
       "      <td>9.000</td>\n",
       "      <td>linear</td>\n",
       "      <td>500.000</td>\n",
       "      <td>0.694</td>\n",
       "      <td>[0.6, 0.7]</td>\n",
       "      <td>0.491</td>\n",
       "      <td>[0.467, 0.49]</td>\n",
       "      <td>0.694</td>\n",
       "      <td>[0.6, 0.7]</td>\n",
       "      <td>pca</td>\n",
       "      <td>0.016</td>\n",
       "    </tr>\n",
       "    <tr>\n",
       "      <th>ds_zscore_bin</th>\n",
       "      <td>60.000</td>\n",
       "      <td>42.000</td>\n",
       "      <td>18.000</td>\n",
       "      <td>sigmoid</td>\n",
       "      <td>500.000</td>\n",
       "      <td>0.653</td>\n",
       "      <td>[0.5, 0.778]</td>\n",
       "      <td>0.568</td>\n",
       "      <td>[0.417, 0.819]</td>\n",
       "      <td>0.653</td>\n",
       "      <td>[0.5, 0.778]</td>\n",
       "      <td>iso</td>\n",
       "      <td>0.011</td>\n",
       "    </tr>\n",
       "    <tr>\n",
       "      <th>pvt_fs_bin</th>\n",
       "      <td>79.000</td>\n",
       "      <td>55.000</td>\n",
       "      <td>23.000</td>\n",
       "      <td>linear</td>\n",
       "      <td>500.000</td>\n",
       "      <td>0.624</td>\n",
       "      <td>[0.625, 0.625]</td>\n",
       "      <td>0.391</td>\n",
       "      <td>[0.391, 0.391]</td>\n",
       "      <td>0.624</td>\n",
       "      <td>[0.625, 0.625]</td>\n",
       "      <td>iso</td>\n",
       "      <td>0.017</td>\n",
       "    </tr>\n",
       "    <tr>\n",
       "      <th>pvt_rt_mean_bin</th>\n",
       "      <td>60.000</td>\n",
       "      <td>42.000</td>\n",
       "      <td>18.000</td>\n",
       "      <td>sigmoid</td>\n",
       "      <td>500.000</td>\n",
       "      <td>0.552</td>\n",
       "      <td>[0.333, 0.722]</td>\n",
       "      <td>0.556</td>\n",
       "      <td>[0.299, 0.765]</td>\n",
       "      <td>0.552</td>\n",
       "      <td>[0.333, 0.722]</td>\n",
       "      <td>pca</td>\n",
       "      <td>0.009</td>\n",
       "    </tr>\n",
       "    <tr>\n",
       "      <th>trails_a_z_score_bin</th>\n",
       "      <td>59.000</td>\n",
       "      <td>41.000</td>\n",
       "      <td>17.000</td>\n",
       "      <td>sigmoid</td>\n",
       "      <td>500.000</td>\n",
       "      <td>0.678</td>\n",
       "      <td>[0.611, 0.722]</td>\n",
       "      <td>0.551</td>\n",
       "      <td>[0.444, 0.804]</td>\n",
       "      <td>0.678</td>\n",
       "      <td>[0.611, 0.722]</td>\n",
       "      <td>lle</td>\n",
       "      <td>-0.012</td>\n",
       "    </tr>\n",
       "    <tr>\n",
       "      <th>trails_b_z_score_x_bin</th>\n",
       "      <td>81.000</td>\n",
       "      <td>56.000</td>\n",
       "      <td>24.000</td>\n",
       "      <td>poly</td>\n",
       "      <td>500.000</td>\n",
       "      <td>0.568</td>\n",
       "      <td>[0.4, 0.72]</td>\n",
       "      <td>0.571</td>\n",
       "      <td>[0.312, 0.789]</td>\n",
       "      <td>0.568</td>\n",
       "      <td>[0.4, 0.72]</td>\n",
       "      <td>pca</td>\n",
       "      <td>0.004</td>\n",
       "    </tr>\n",
       "    <tr>\n",
       "      <th>vc_zscore_bin</th>\n",
       "      <td>90.000</td>\n",
       "      <td>62.000</td>\n",
       "      <td>27.000</td>\n",
       "      <td>linear</td>\n",
       "      <td>500.000</td>\n",
       "      <td>0.945</td>\n",
       "      <td>[0.926, 0.963]</td>\n",
       "      <td>0.894</td>\n",
       "      <td>[0.857, 0.927]</td>\n",
       "      <td>0.945</td>\n",
       "      <td>[0.926, 0.963]</td>\n",
       "      <td>iso</td>\n",
       "      <td>-0.006</td>\n",
       "    </tr>\n",
       "  </tbody>\n",
       "</table>\n",
       "</div>"
      ],
      "text/plain": [
       "                                   total_sample_size  train_sample_size  \\\n",
       "target                                                                    \n",
       "cowat_zscore_bin                              33.000             23.000   \n",
       "cvlt_b_zscore_bin                             30.000             21.000   \n",
       "cvlt_ldelay_cue_recall_zscore_bin             38.000             26.000   \n",
       "cvlt_ldelay_recall_zscore_bin                 37.000             25.000   \n",
       "cvlt_recognition_fp_zscore_bin                40.000             28.000   \n",
       "cvlt_recognition_hits_zscore_bin              35.000             24.000   \n",
       "cvlt_sdelay_cued_zscore_bin                   38.000             26.000   \n",
       "cvlt_sdelay_recall_zscore_bin                 43.000             30.000   \n",
       "cvlt_zscore_bin                               32.000             22.000   \n",
       "ds_zscore_bin                                 60.000             42.000   \n",
       "pvt_fs_bin                                    79.000             55.000   \n",
       "pvt_rt_mean_bin                               60.000             42.000   \n",
       "trails_a_z_score_bin                          59.000             41.000   \n",
       "trails_b_z_score_x_bin                        81.000             56.000   \n",
       "vc_zscore_bin                                 90.000             62.000   \n",
       "\n",
       "                                   test_sample_size svm_kernel  n_iterations  \\\n",
       "target                                                                         \n",
       "cowat_zscore_bin                              9.000        rbf       500.000   \n",
       "cvlt_b_zscore_bin                             9.000     linear       500.000   \n",
       "cvlt_ldelay_cue_recall_zscore_bin            11.000     linear       500.000   \n",
       "cvlt_ldelay_recall_zscore_bin                11.000     linear       500.000   \n",
       "cvlt_recognition_fp_zscore_bin               12.000     linear       500.000   \n",
       "cvlt_recognition_hits_zscore_bin             10.000        rbf       500.000   \n",
       "cvlt_sdelay_cued_zscore_bin                  11.000       poly       500.000   \n",
       "cvlt_sdelay_recall_zscore_bin                12.000       poly       500.000   \n",
       "cvlt_zscore_bin                               9.000     linear       500.000   \n",
       "ds_zscore_bin                                18.000    sigmoid       500.000   \n",
       "pvt_fs_bin                                   23.000     linear       500.000   \n",
       "pvt_rt_mean_bin                              18.000    sigmoid       500.000   \n",
       "trails_a_z_score_bin                         17.000    sigmoid       500.000   \n",
       "trails_b_z_score_x_bin                       24.000       poly       500.000   \n",
       "vc_zscore_bin                                27.000     linear       500.000   \n",
       "\n",
       "                                   svm_accuracy svm_accuracy_ci  \\\n",
       "target                                                            \n",
       "cowat_zscore_bin                          0.672      [0.4, 0.9]   \n",
       "cvlt_b_zscore_bin                         0.594  [0.333, 0.778]   \n",
       "cvlt_ldelay_cue_recall_zscore_bin         0.833  [0.833, 0.833]   \n",
       "cvlt_ldelay_recall_zscore_bin             0.833  [0.833, 0.833]   \n",
       "cvlt_recognition_fp_zscore_bin            0.665  [0.456, 0.833]   \n",
       "cvlt_recognition_hits_zscore_bin          0.634  [0.455, 0.727]   \n",
       "cvlt_sdelay_cued_zscore_bin               0.836  [0.833, 0.917]   \n",
       "cvlt_sdelay_recall_zscore_bin             0.788  [0.692, 0.923]   \n",
       "cvlt_zscore_bin                           0.694      [0.6, 0.7]   \n",
       "ds_zscore_bin                             0.653    [0.5, 0.778]   \n",
       "pvt_fs_bin                                0.624  [0.625, 0.625]   \n",
       "pvt_rt_mean_bin                           0.552  [0.333, 0.722]   \n",
       "trails_a_z_score_bin                      0.678  [0.611, 0.722]   \n",
       "trails_b_z_score_x_bin                    0.568     [0.4, 0.72]   \n",
       "vc_zscore_bin                             0.945  [0.926, 0.963]   \n",
       "\n",
       "                                   svm_precision svm_precision_ci  svm_recall  \\\n",
       "target                                                                          \n",
       "cowat_zscore_bin                           0.680   [0.333, 0.914]       0.672   \n",
       "cvlt_b_zscore_bin                          0.600   [0.238, 0.852]       0.594   \n",
       "cvlt_ldelay_cue_recall_zscore_bin          0.694   [0.694, 0.694]       0.833   \n",
       "cvlt_ldelay_recall_zscore_bin              0.694   [0.694, 0.694]       0.833   \n",
       "cvlt_recognition_fp_zscore_bin             0.681   [0.448, 0.881]       0.665   \n",
       "cvlt_recognition_hits_zscore_bin           0.512   [0.367, 0.809]       0.634   \n",
       "cvlt_sdelay_cued_zscore_bin                0.702   [0.694, 0.924]       0.836   \n",
       "cvlt_sdelay_recall_zscore_bin              0.696    [0.577, 0.93]       0.788   \n",
       "cvlt_zscore_bin                            0.491    [0.467, 0.49]       0.694   \n",
       "ds_zscore_bin                              0.568   [0.417, 0.819]       0.653   \n",
       "pvt_fs_bin                                 0.391   [0.391, 0.391]       0.624   \n",
       "pvt_rt_mean_bin                            0.556   [0.299, 0.765]       0.552   \n",
       "trails_a_z_score_bin                       0.551   [0.444, 0.804]       0.678   \n",
       "trails_b_z_score_x_bin                     0.571   [0.312, 0.789]       0.568   \n",
       "vc_zscore_bin                              0.894   [0.857, 0.927]       0.945   \n",
       "\n",
       "                                    svm_recall_ci dim_redx  sil_score  \n",
       "target                                                                 \n",
       "cowat_zscore_bin                       [0.4, 0.9]      iso      0.039  \n",
       "cvlt_b_zscore_bin                  [0.333, 0.778]      iso      0.029  \n",
       "cvlt_ldelay_cue_recall_zscore_bin  [0.833, 0.833]      iso     -0.056  \n",
       "cvlt_ldelay_recall_zscore_bin      [0.833, 0.833]      pca      0.009  \n",
       "cvlt_recognition_fp_zscore_bin     [0.456, 0.833]      pca      0.057  \n",
       "cvlt_recognition_hits_zscore_bin   [0.455, 0.727]      pca      0.002  \n",
       "cvlt_sdelay_cued_zscore_bin        [0.833, 0.917]      pca     -0.035  \n",
       "cvlt_sdelay_recall_zscore_bin      [0.692, 0.923]      pca      0.050  \n",
       "cvlt_zscore_bin                        [0.6, 0.7]      pca      0.016  \n",
       "ds_zscore_bin                        [0.5, 0.778]      iso      0.011  \n",
       "pvt_fs_bin                         [0.625, 0.625]      iso      0.017  \n",
       "pvt_rt_mean_bin                    [0.333, 0.722]      pca      0.009  \n",
       "trails_a_z_score_bin               [0.611, 0.722]      lle     -0.012  \n",
       "trails_b_z_score_x_bin                [0.4, 0.72]      pca      0.004  \n",
       "vc_zscore_bin                      [0.926, 0.963]      iso     -0.006  "
      ]
     },
     "execution_count": 57,
     "metadata": {},
     "output_type": "execute_result"
    }
   ],
   "source": [
    "results_n = pd.DataFrame()\n",
    "\n",
    "for reduction_method in reduction_methods:\n",
    "    print(reduction_method)\n",
    "    \n",
    "    for y in df[[col for col in df.columns if col.endswith('_bin')] + ['pvt_rt_mean_bin', 'pvt_fs_bin']]:\n",
    "        try:\n",
    "            na_idx = np.where(df[y] == 'nan')[0]\n",
    "\n",
    "            X = eval('manifold_2D_' + reduction_method + '_n').drop(index=na_idx).values\n",
    "            y_true = np.delete(df[y].values, na_idx) \n",
    "\n",
    "            result, stats, cis = bootstrap_svm(X, y_true, y, n_size, n_iterations, kernel_methods=kernel_methods)\n",
    "            result['dim_redx'] = reduction_method\n",
    "            result['sil_score'] = metrics.silhouette_score(X, y_true, metric='euclidean')\n",
    "            results_n = results_n.append(result)\n",
    "     \n",
    "        except Exception as e:\n",
    "            print(e)\n",
    "                         \n",
    "sil_idx = results_n.groupby(['target'])['sil_score'].transform(max) == results_n['sil_score']\n",
    "results_n_best = results_n[sil_idx]\n",
    "acc_idx = results_n_best.groupby(['target'])['svm_accuracy'].transform(max) == results_n_best['svm_accuracy']\n",
    "results_n_best = results_n_best[acc_idx].groupby('target').first()\n",
    "\n",
    "results_n_best.reset_index(drop=True).to_latex(results_dir + 'results_random.tex', index=None, float_format=\"%.2f\")\n",
    "results_n_best"
   ]
  },
  {
   "cell_type": "code",
   "execution_count": 60,
   "id": "8ccc7515",
   "metadata": {},
   "outputs": [
    {
     "name": "stdout",
     "output_type": "stream",
     "text": [
      "pca\n",
      "The least populated class in y has only 1 member, which is too few. The minimum number of groups for any class cannot be less than 2. Error on line 13\n",
      "iso\n",
      "The least populated class in y has only 1 member, which is too few. The minimum number of groups for any class cannot be less than 2. Error on line 13\n",
      "lle\n",
      "The least populated class in y has only 1 member, which is too few. The minimum number of groups for any class cannot be less than 2. Error on line 13\n"
     ]
    },
    {
     "data": {
      "text/html": [
       "<div>\n",
       "<style scoped>\n",
       "    .dataframe tbody tr th:only-of-type {\n",
       "        vertical-align: middle;\n",
       "    }\n",
       "\n",
       "    .dataframe tbody tr th {\n",
       "        vertical-align: top;\n",
       "    }\n",
       "\n",
       "    .dataframe thead th {\n",
       "        text-align: right;\n",
       "    }\n",
       "</style>\n",
       "<table border=\"1\" class=\"dataframe\">\n",
       "  <thead>\n",
       "    <tr style=\"text-align: right;\">\n",
       "      <th></th>\n",
       "      <th>target</th>\n",
       "      <th>total_sample_size</th>\n",
       "      <th>train_sample_size</th>\n",
       "      <th>test_sample_size</th>\n",
       "      <th>svm_kernel</th>\n",
       "      <th>n_iterations</th>\n",
       "      <th>svm_accuracy</th>\n",
       "      <th>svm_accuracy_ci</th>\n",
       "      <th>svm_precision</th>\n",
       "      <th>svm_precision_ci</th>\n",
       "      <th>svm_recall</th>\n",
       "      <th>svm_recall_ci</th>\n",
       "      <th>dim_redx</th>\n",
       "      <th>sil_score</th>\n",
       "    </tr>\n",
       "  </thead>\n",
       "  <tbody>\n",
       "    <tr>\n",
       "      <th>0</th>\n",
       "      <td>cowat_zscore_bin</td>\n",
       "      <td>33.000</td>\n",
       "      <td>23.000</td>\n",
       "      <td>9.000</td>\n",
       "      <td>rbf</td>\n",
       "      <td>500.000</td>\n",
       "      <td>0.669</td>\n",
       "      <td>[0.4, 0.9]</td>\n",
       "      <td>0.679</td>\n",
       "      <td>[0.32, 0.914]</td>\n",
       "      <td>0.669</td>\n",
       "      <td>[0.4, 0.9]</td>\n",
       "      <td>iso</td>\n",
       "      <td>0.039</td>\n",
       "    </tr>\n",
       "    <tr>\n",
       "      <th>1</th>\n",
       "      <td>cvlt_b_zscore_bin</td>\n",
       "      <td>30.000</td>\n",
       "      <td>21.000</td>\n",
       "      <td>9.000</td>\n",
       "      <td>linear</td>\n",
       "      <td>500.000</td>\n",
       "      <td>0.597</td>\n",
       "      <td>[0.333, 0.778]</td>\n",
       "      <td>0.603</td>\n",
       "      <td>[0.278, 0.841]</td>\n",
       "      <td>0.597</td>\n",
       "      <td>[0.333, 0.778]</td>\n",
       "      <td>iso</td>\n",
       "      <td>0.029</td>\n",
       "    </tr>\n",
       "    <tr>\n",
       "      <th>2</th>\n",
       "      <td>cvlt_ldelay_cue_recall_zscore_bin</td>\n",
       "      <td>38.000</td>\n",
       "      <td>26.000</td>\n",
       "      <td>11.000</td>\n",
       "      <td>linear</td>\n",
       "      <td>500.000</td>\n",
       "      <td>0.833</td>\n",
       "      <td>[0.833, 0.833]</td>\n",
       "      <td>0.694</td>\n",
       "      <td>[0.694, 0.694]</td>\n",
       "      <td>0.833</td>\n",
       "      <td>[0.833, 0.833]</td>\n",
       "      <td>iso</td>\n",
       "      <td>-0.056</td>\n",
       "    </tr>\n",
       "    <tr>\n",
       "      <th>3</th>\n",
       "      <td>cvlt_ldelay_recall_zscore_bin</td>\n",
       "      <td>37.000</td>\n",
       "      <td>25.000</td>\n",
       "      <td>11.000</td>\n",
       "      <td>sigmoid</td>\n",
       "      <td>500.000</td>\n",
       "      <td>0.834</td>\n",
       "      <td>[0.833, 0.833]</td>\n",
       "      <td>0.696</td>\n",
       "      <td>[0.694, 0.694]</td>\n",
       "      <td>0.834</td>\n",
       "      <td>[0.833, 0.833]</td>\n",
       "      <td>pca</td>\n",
       "      <td>0.009</td>\n",
       "    </tr>\n",
       "    <tr>\n",
       "      <th>4</th>\n",
       "      <td>cvlt_recognition_fp_zscore_bin</td>\n",
       "      <td>40.000</td>\n",
       "      <td>28.000</td>\n",
       "      <td>12.000</td>\n",
       "      <td>sigmoid</td>\n",
       "      <td>500.000</td>\n",
       "      <td>0.670</td>\n",
       "      <td>[0.417, 0.917]</td>\n",
       "      <td>0.693</td>\n",
       "      <td>[0.448, 0.927]</td>\n",
       "      <td>0.670</td>\n",
       "      <td>[0.417, 0.917]</td>\n",
       "      <td>pca</td>\n",
       "      <td>0.057</td>\n",
       "    </tr>\n",
       "    <tr>\n",
       "      <th>5</th>\n",
       "      <td>cvlt_recognition_hits_zscore_bin</td>\n",
       "      <td>35.000</td>\n",
       "      <td>24.000</td>\n",
       "      <td>10.000</td>\n",
       "      <td>rbf</td>\n",
       "      <td>500.000</td>\n",
       "      <td>0.633</td>\n",
       "      <td>[0.455, 0.727]</td>\n",
       "      <td>0.508</td>\n",
       "      <td>[0.367, 0.809]</td>\n",
       "      <td>0.633</td>\n",
       "      <td>[0.455, 0.727]</td>\n",
       "      <td>pca</td>\n",
       "      <td>0.002</td>\n",
       "    </tr>\n",
       "    <tr>\n",
       "      <th>6</th>\n",
       "      <td>cvlt_sdelay_cued_zscore_bin</td>\n",
       "      <td>38.000</td>\n",
       "      <td>26.000</td>\n",
       "      <td>11.000</td>\n",
       "      <td>linear</td>\n",
       "      <td>500.000</td>\n",
       "      <td>0.833</td>\n",
       "      <td>[0.833, 0.833]</td>\n",
       "      <td>0.694</td>\n",
       "      <td>[0.694, 0.694]</td>\n",
       "      <td>0.833</td>\n",
       "      <td>[0.833, 0.833]</td>\n",
       "      <td>pca</td>\n",
       "      <td>-0.035</td>\n",
       "    </tr>\n",
       "    <tr>\n",
       "      <th>7</th>\n",
       "      <td>cvlt_sdelay_recall_zscore_bin</td>\n",
       "      <td>43.000</td>\n",
       "      <td>30.000</td>\n",
       "      <td>12.000</td>\n",
       "      <td>poly</td>\n",
       "      <td>500.000</td>\n",
       "      <td>0.786</td>\n",
       "      <td>[0.692, 0.887]</td>\n",
       "      <td>0.693</td>\n",
       "      <td>[0.577, 0.902]</td>\n",
       "      <td>0.786</td>\n",
       "      <td>[0.692, 0.887]</td>\n",
       "      <td>pca</td>\n",
       "      <td>0.050</td>\n",
       "    </tr>\n",
       "    <tr>\n",
       "      <th>8</th>\n",
       "      <td>cvlt_zscore_bin</td>\n",
       "      <td>32.000</td>\n",
       "      <td>22.000</td>\n",
       "      <td>9.000</td>\n",
       "      <td>linear</td>\n",
       "      <td>500.000</td>\n",
       "      <td>0.693</td>\n",
       "      <td>[0.6, 0.7]</td>\n",
       "      <td>0.492</td>\n",
       "      <td>[0.467, 0.49]</td>\n",
       "      <td>0.693</td>\n",
       "      <td>[0.6, 0.7]</td>\n",
       "      <td>pca</td>\n",
       "      <td>0.016</td>\n",
       "    </tr>\n",
       "    <tr>\n",
       "      <th>9</th>\n",
       "      <td>ds_zscore_bin</td>\n",
       "      <td>60.000</td>\n",
       "      <td>42.000</td>\n",
       "      <td>18.000</td>\n",
       "      <td>poly</td>\n",
       "      <td>500.000</td>\n",
       "      <td>0.649</td>\n",
       "      <td>[0.5, 0.778]</td>\n",
       "      <td>0.583</td>\n",
       "      <td>[0.417, 0.833]</td>\n",
       "      <td>0.649</td>\n",
       "      <td>[0.5, 0.778]</td>\n",
       "      <td>lle</td>\n",
       "      <td>0.011</td>\n",
       "    </tr>\n",
       "    <tr>\n",
       "      <th>10</th>\n",
       "      <td>pvt_fs_bin</td>\n",
       "      <td>79.000</td>\n",
       "      <td>55.000</td>\n",
       "      <td>23.000</td>\n",
       "      <td>linear</td>\n",
       "      <td>500.000</td>\n",
       "      <td>0.623</td>\n",
       "      <td>[0.625, 0.625]</td>\n",
       "      <td>0.391</td>\n",
       "      <td>[0.391, 0.391]</td>\n",
       "      <td>0.623</td>\n",
       "      <td>[0.625, 0.625]</td>\n",
       "      <td>iso</td>\n",
       "      <td>0.017</td>\n",
       "    </tr>\n",
       "    <tr>\n",
       "      <th>11</th>\n",
       "      <td>pvt_rt_mean_bin</td>\n",
       "      <td>60.000</td>\n",
       "      <td>42.000</td>\n",
       "      <td>18.000</td>\n",
       "      <td>sigmoid</td>\n",
       "      <td>500.000</td>\n",
       "      <td>0.550</td>\n",
       "      <td>[0.333, 0.722]</td>\n",
       "      <td>0.555</td>\n",
       "      <td>[0.292, 0.781]</td>\n",
       "      <td>0.550</td>\n",
       "      <td>[0.333, 0.722]</td>\n",
       "      <td>pca</td>\n",
       "      <td>0.009</td>\n",
       "    </tr>\n",
       "    <tr>\n",
       "      <th>12</th>\n",
       "      <td>trails_a_z_score_bin</td>\n",
       "      <td>59.000</td>\n",
       "      <td>41.000</td>\n",
       "      <td>17.000</td>\n",
       "      <td>sigmoid</td>\n",
       "      <td>500.000</td>\n",
       "      <td>0.680</td>\n",
       "      <td>[0.582, 0.778]</td>\n",
       "      <td>0.563</td>\n",
       "      <td>[0.444, 0.833]</td>\n",
       "      <td>0.680</td>\n",
       "      <td>[0.582, 0.778]</td>\n",
       "      <td>iso</td>\n",
       "      <td>-0.012</td>\n",
       "    </tr>\n",
       "    <tr>\n",
       "      <th>13</th>\n",
       "      <td>trails_b_z_score_x_bin</td>\n",
       "      <td>81.000</td>\n",
       "      <td>56.000</td>\n",
       "      <td>24.000</td>\n",
       "      <td>poly</td>\n",
       "      <td>500.000</td>\n",
       "      <td>0.569</td>\n",
       "      <td>[0.419, 0.72]</td>\n",
       "      <td>0.569</td>\n",
       "      <td>[0.314, 0.781]</td>\n",
       "      <td>0.569</td>\n",
       "      <td>[0.419, 0.72]</td>\n",
       "      <td>pca</td>\n",
       "      <td>0.004</td>\n",
       "    </tr>\n",
       "    <tr>\n",
       "      <th>14</th>\n",
       "      <td>vc_zscore_bin</td>\n",
       "      <td>90.000</td>\n",
       "      <td>62.000</td>\n",
       "      <td>27.000</td>\n",
       "      <td>rbf</td>\n",
       "      <td>500.000</td>\n",
       "      <td>0.946</td>\n",
       "      <td>[0.926, 0.963]</td>\n",
       "      <td>0.895</td>\n",
       "      <td>[0.857, 0.927]</td>\n",
       "      <td>0.946</td>\n",
       "      <td>[0.926, 0.963]</td>\n",
       "      <td>lle</td>\n",
       "      <td>-0.006</td>\n",
       "    </tr>\n",
       "  </tbody>\n",
       "</table>\n",
       "</div>"
      ],
      "text/plain": [
       "                               target  total_sample_size  train_sample_size  \\\n",
       "0                    cowat_zscore_bin             33.000             23.000   \n",
       "1                   cvlt_b_zscore_bin             30.000             21.000   \n",
       "2   cvlt_ldelay_cue_recall_zscore_bin             38.000             26.000   \n",
       "3       cvlt_ldelay_recall_zscore_bin             37.000             25.000   \n",
       "4      cvlt_recognition_fp_zscore_bin             40.000             28.000   \n",
       "5    cvlt_recognition_hits_zscore_bin             35.000             24.000   \n",
       "6         cvlt_sdelay_cued_zscore_bin             38.000             26.000   \n",
       "7       cvlt_sdelay_recall_zscore_bin             43.000             30.000   \n",
       "8                     cvlt_zscore_bin             32.000             22.000   \n",
       "9                       ds_zscore_bin             60.000             42.000   \n",
       "10                         pvt_fs_bin             79.000             55.000   \n",
       "11                    pvt_rt_mean_bin             60.000             42.000   \n",
       "12               trails_a_z_score_bin             59.000             41.000   \n",
       "13             trails_b_z_score_x_bin             81.000             56.000   \n",
       "14                      vc_zscore_bin             90.000             62.000   \n",
       "\n",
       "    test_sample_size svm_kernel  n_iterations  svm_accuracy svm_accuracy_ci  \\\n",
       "0              9.000        rbf       500.000         0.669      [0.4, 0.9]   \n",
       "1              9.000     linear       500.000         0.597  [0.333, 0.778]   \n",
       "2             11.000     linear       500.000         0.833  [0.833, 0.833]   \n",
       "3             11.000    sigmoid       500.000         0.834  [0.833, 0.833]   \n",
       "4             12.000    sigmoid       500.000         0.670  [0.417, 0.917]   \n",
       "5             10.000        rbf       500.000         0.633  [0.455, 0.727]   \n",
       "6             11.000     linear       500.000         0.833  [0.833, 0.833]   \n",
       "7             12.000       poly       500.000         0.786  [0.692, 0.887]   \n",
       "8              9.000     linear       500.000         0.693      [0.6, 0.7]   \n",
       "9             18.000       poly       500.000         0.649    [0.5, 0.778]   \n",
       "10            23.000     linear       500.000         0.623  [0.625, 0.625]   \n",
       "11            18.000    sigmoid       500.000         0.550  [0.333, 0.722]   \n",
       "12            17.000    sigmoid       500.000         0.680  [0.582, 0.778]   \n",
       "13            24.000       poly       500.000         0.569   [0.419, 0.72]   \n",
       "14            27.000        rbf       500.000         0.946  [0.926, 0.963]   \n",
       "\n",
       "    svm_precision svm_precision_ci  svm_recall   svm_recall_ci dim_redx  \\\n",
       "0           0.679    [0.32, 0.914]       0.669      [0.4, 0.9]      iso   \n",
       "1           0.603   [0.278, 0.841]       0.597  [0.333, 0.778]      iso   \n",
       "2           0.694   [0.694, 0.694]       0.833  [0.833, 0.833]      iso   \n",
       "3           0.696   [0.694, 0.694]       0.834  [0.833, 0.833]      pca   \n",
       "4           0.693   [0.448, 0.927]       0.670  [0.417, 0.917]      pca   \n",
       "5           0.508   [0.367, 0.809]       0.633  [0.455, 0.727]      pca   \n",
       "6           0.694   [0.694, 0.694]       0.833  [0.833, 0.833]      pca   \n",
       "7           0.693   [0.577, 0.902]       0.786  [0.692, 0.887]      pca   \n",
       "8           0.492    [0.467, 0.49]       0.693      [0.6, 0.7]      pca   \n",
       "9           0.583   [0.417, 0.833]       0.649    [0.5, 0.778]      lle   \n",
       "10          0.391   [0.391, 0.391]       0.623  [0.625, 0.625]      iso   \n",
       "11          0.555   [0.292, 0.781]       0.550  [0.333, 0.722]      pca   \n",
       "12          0.563   [0.444, 0.833]       0.680  [0.582, 0.778]      iso   \n",
       "13          0.569   [0.314, 0.781]       0.569   [0.419, 0.72]      pca   \n",
       "14          0.895   [0.857, 0.927]       0.946  [0.926, 0.963]      lle   \n",
       "\n",
       "    sil_score  \n",
       "0       0.039  \n",
       "1       0.029  \n",
       "2      -0.056  \n",
       "3       0.009  \n",
       "4       0.057  \n",
       "5       0.002  \n",
       "6      -0.035  \n",
       "7       0.050  \n",
       "8       0.016  \n",
       "9       0.011  \n",
       "10      0.017  \n",
       "11      0.009  \n",
       "12     -0.012  \n",
       "13      0.004  \n",
       "14     -0.006  "
      ]
     },
     "execution_count": 60,
     "metadata": {},
     "output_type": "execute_result"
    }
   ],
   "source": [
    "results = pd.DataFrame()\n",
    "\n",
    "for reduction_method in reduction_methods:\n",
    "    print(reduction_method)\n",
    "    \n",
    "    for y in df[[col for col in df.columns if col.endswith('_bin')] + ['pvt_rt_mean_bin', 'pvt_fs_bin']]:\n",
    "        try:\n",
    "\n",
    "            na_idx = np.where(df[y] == 'nan')[0]\n",
    "\n",
    "            X = eval('manifold_2D_' + reduction_method + '_n').drop(index=na_idx).values\n",
    "            y_true = np.delete(df[y].values, na_idx) \n",
    "\n",
    "            result, stats, cis = bootstrap_svm(X, y_true, str(y), n_size, n_iterations, \n",
    "                                               kernel_methods=kernel_methods)\n",
    "            result['dim_redx'] = reduction_method\n",
    "            result['sil_score'] = metrics.silhouette_score(X, y_true, metric='euclidean')\n",
    "            results = results.append(result)\n",
    "    \n",
    "        except Exception as e:\n",
    "            print(e)\n",
    "                         \n",
    "sil_idx = results.groupby(['target'])['sil_score'].transform(max) == results['sil_score']\n",
    "results_best = results[sil_idx]\n",
    "acc_idx = results_best.groupby(['target'])['svm_accuracy'].transform(max) == results_best['svm_accuracy']\n",
    "results_best = results_best[acc_idx].groupby('target').first()\n",
    "\n",
    "results_best.reset_index().drop(['n_iterations', 'sil_score'], axis=1).to_latex(results_dir + 'results.tex', index=None, float_format=\"%.2f\")\n",
    "results_best.reset_index()"
   ]
  },
  {
   "cell_type": "code",
   "execution_count": 62,
   "id": "f053f743",
   "metadata": {},
   "outputs": [],
   "source": [
    "# markers = y_pred + ', ' + y_test\n",
    "\n",
    "# fig = px.scatter_3d(x=X_test['Component 1'], \n",
    "#               y=X_test['Component 2'], \n",
    "#               z=target_measure[y_test.index.values],\n",
    "#               color=markers,\n",
    "#               labels = {\n",
    "#                   'x' : 'Component 1',\n",
    "#                   'y' : 'Component 2',\n",
    "#                   'z' : target_label,\n",
    "#                   'color': 'Predicted vs. Truth'\n",
    "#               },\n",
    "#               title='Components and %s' % target_label)\n",
    "\n",
    "# fig.show()\n",
    "# plt.savefig('%s/%s_svm_3dscatter.png' % (results_dir, str(target_label)), \n",
    "#             dpi=300, bbox_inches='tight', facecolor='w')\n",
    "# plt.close()"
   ]
  },
  {
   "cell_type": "markdown",
   "id": "cb3a8c41",
   "metadata": {},
   "source": [
    "# Results"
   ]
  },
  {
   "cell_type": "code",
   "execution_count": 63,
   "id": "266673af",
   "metadata": {},
   "outputs": [
    {
     "data": {
      "text/html": [
       "<div>\n",
       "<style scoped>\n",
       "    .dataframe tbody tr th:only-of-type {\n",
       "        vertical-align: middle;\n",
       "    }\n",
       "\n",
       "    .dataframe tbody tr th {\n",
       "        vertical-align: top;\n",
       "    }\n",
       "\n",
       "    .dataframe thead th {\n",
       "        text-align: right;\n",
       "    }\n",
       "</style>\n",
       "<table border=\"1\" class=\"dataframe\">\n",
       "  <thead>\n",
       "    <tr style=\"text-align: right;\">\n",
       "      <th></th>\n",
       "      <th>group</th>\n",
       "      <th>Young Adults</th>\n",
       "      <th>Older Adults</th>\n",
       "    </tr>\n",
       "  </thead>\n",
       "  <tbody>\n",
       "    <tr>\n",
       "      <th rowspan=\"5\" valign=\"top\">cowat_zscore</th>\n",
       "      <th>count</th>\n",
       "      <td>0.000</td>\n",
       "      <td>52.000</td>\n",
       "    </tr>\n",
       "    <tr>\n",
       "      <th>mean</th>\n",
       "      <td>NaN</td>\n",
       "      <td>0.220</td>\n",
       "    </tr>\n",
       "    <tr>\n",
       "      <th>std</th>\n",
       "      <td>NaN</td>\n",
       "      <td>0.995</td>\n",
       "    </tr>\n",
       "    <tr>\n",
       "      <th>min</th>\n",
       "      <td>NaN</td>\n",
       "      <td>-1.570</td>\n",
       "    </tr>\n",
       "    <tr>\n",
       "      <th>25%</th>\n",
       "      <td>NaN</td>\n",
       "      <td>-0.579</td>\n",
       "    </tr>\n",
       "    <tr>\n",
       "      <th>...</th>\n",
       "      <th>...</th>\n",
       "      <td>...</td>\n",
       "      <td>...</td>\n",
       "    </tr>\n",
       "    <tr>\n",
       "      <th rowspan=\"5\" valign=\"top\">vc_zscore</th>\n",
       "      <th>min</th>\n",
       "      <td>-1.330</td>\n",
       "      <td>-1.670</td>\n",
       "    </tr>\n",
       "    <tr>\n",
       "      <th>25%</th>\n",
       "      <td>1.000</td>\n",
       "      <td>0.670</td>\n",
       "    </tr>\n",
       "    <tr>\n",
       "      <th>50%</th>\n",
       "      <td>1.330</td>\n",
       "      <td>1.670</td>\n",
       "    </tr>\n",
       "    <tr>\n",
       "      <th>75%</th>\n",
       "      <td>2.000</td>\n",
       "      <td>2.000</td>\n",
       "    </tr>\n",
       "    <tr>\n",
       "      <th>max</th>\n",
       "      <td>3.000</td>\n",
       "      <td>2.670</td>\n",
       "    </tr>\n",
       "  </tbody>\n",
       "</table>\n",
       "<p>128 rows × 2 columns</p>\n",
       "</div>"
      ],
      "text/plain": [
       "group               Young Adults  Older Adults\n",
       "cowat_zscore count         0.000        52.000\n",
       "             mean            NaN         0.220\n",
       "             std             NaN         0.995\n",
       "             min             NaN        -1.570\n",
       "             25%             NaN        -0.579\n",
       "...                          ...           ...\n",
       "vc_zscore    min          -1.330        -1.670\n",
       "             25%           1.000         0.670\n",
       "             50%           1.330         1.670\n",
       "             75%           2.000         2.000\n",
       "             max           3.000         2.670\n",
       "\n",
       "[128 rows x 2 columns]"
      ]
     },
     "execution_count": 63,
     "metadata": {},
     "output_type": "execute_result"
    }
   ],
   "source": [
    "df.sort_index(axis=1).groupby('group').describe().T[['Young Adults', 'Older Adults']]"
   ]
  },
  {
   "cell_type": "code",
   "execution_count": 64,
   "id": "d571478e",
   "metadata": {},
   "outputs": [],
   "source": [
    "df.sort_index(axis=1).groupby('group').describe().T[['Young Adults', 'Older Adults']].to_latex(results_dir + 'neuropsych_results.tex',float_format=\"%.2f\")"
   ]
  },
  {
   "cell_type": "markdown",
   "id": "19f66deb",
   "metadata": {},
   "source": [
    "## PCA/Isomap 24hr Day vs Random"
   ]
  },
  {
   "cell_type": "code",
   "execution_count": 65,
   "id": "d23a6550",
   "metadata": {},
   "outputs": [
    {
     "data": {
      "text/html": [
       "<div>\n",
       "<style scoped>\n",
       "    .dataframe tbody tr th:only-of-type {\n",
       "        vertical-align: middle;\n",
       "    }\n",
       "\n",
       "    .dataframe tbody tr th {\n",
       "        vertical-align: top;\n",
       "    }\n",
       "\n",
       "    .dataframe thead th {\n",
       "        text-align: right;\n",
       "    }\n",
       "</style>\n",
       "<table border=\"1\" class=\"dataframe\">\n",
       "  <thead>\n",
       "    <tr style=\"text-align: right;\">\n",
       "      <th></th>\n",
       "      <th>total_sample_size</th>\n",
       "      <th>train_sample_size</th>\n",
       "      <th>test_sample_size</th>\n",
       "      <th>svm_kernel</th>\n",
       "      <th>n_iterations</th>\n",
       "      <th>svm_accuracy</th>\n",
       "      <th>svm_accuracy_ci</th>\n",
       "      <th>svm_precision</th>\n",
       "      <th>svm_precision_ci</th>\n",
       "      <th>svm_recall</th>\n",
       "      <th>svm_recall_ci</th>\n",
       "      <th>dim_redx</th>\n",
       "      <th>sil_score</th>\n",
       "    </tr>\n",
       "    <tr>\n",
       "      <th>target</th>\n",
       "      <th></th>\n",
       "      <th></th>\n",
       "      <th></th>\n",
       "      <th></th>\n",
       "      <th></th>\n",
       "      <th></th>\n",
       "      <th></th>\n",
       "      <th></th>\n",
       "      <th></th>\n",
       "      <th></th>\n",
       "      <th></th>\n",
       "      <th></th>\n",
       "      <th></th>\n",
       "    </tr>\n",
       "  </thead>\n",
       "  <tbody>\n",
       "    <tr>\n",
       "      <th>cvlt_b_zscore_bin</th>\n",
       "      <td>30.000</td>\n",
       "      <td>21.000</td>\n",
       "      <td>9.000</td>\n",
       "      <td>linear</td>\n",
       "      <td>500.000</td>\n",
       "      <td>0.597</td>\n",
       "      <td>[0.333, 0.778]</td>\n",
       "      <td>0.603</td>\n",
       "      <td>[0.278, 0.841]</td>\n",
       "      <td>0.597</td>\n",
       "      <td>[0.333, 0.778]</td>\n",
       "      <td>iso</td>\n",
       "      <td>0.029</td>\n",
       "    </tr>\n",
       "    <tr>\n",
       "      <th>cvlt_ldelay_recall_zscore_bin</th>\n",
       "      <td>37.000</td>\n",
       "      <td>25.000</td>\n",
       "      <td>11.000</td>\n",
       "      <td>sigmoid</td>\n",
       "      <td>500.000</td>\n",
       "      <td>0.834</td>\n",
       "      <td>[0.833, 0.833]</td>\n",
       "      <td>0.696</td>\n",
       "      <td>[0.694, 0.694]</td>\n",
       "      <td>0.834</td>\n",
       "      <td>[0.833, 0.833]</td>\n",
       "      <td>pca</td>\n",
       "      <td>0.009</td>\n",
       "    </tr>\n",
       "    <tr>\n",
       "      <th>cvlt_recognition_fp_zscore_bin</th>\n",
       "      <td>40.000</td>\n",
       "      <td>28.000</td>\n",
       "      <td>12.000</td>\n",
       "      <td>sigmoid</td>\n",
       "      <td>500.000</td>\n",
       "      <td>0.670</td>\n",
       "      <td>[0.417, 0.917]</td>\n",
       "      <td>0.693</td>\n",
       "      <td>[0.448, 0.927]</td>\n",
       "      <td>0.670</td>\n",
       "      <td>[0.417, 0.917]</td>\n",
       "      <td>pca</td>\n",
       "      <td>0.057</td>\n",
       "    </tr>\n",
       "    <tr>\n",
       "      <th>trails_a_z_score_bin</th>\n",
       "      <td>59.000</td>\n",
       "      <td>41.000</td>\n",
       "      <td>17.000</td>\n",
       "      <td>sigmoid</td>\n",
       "      <td>500.000</td>\n",
       "      <td>0.680</td>\n",
       "      <td>[0.582, 0.778]</td>\n",
       "      <td>0.563</td>\n",
       "      <td>[0.444, 0.833]</td>\n",
       "      <td>0.680</td>\n",
       "      <td>[0.582, 0.778]</td>\n",
       "      <td>iso</td>\n",
       "      <td>-0.012</td>\n",
       "    </tr>\n",
       "    <tr>\n",
       "      <th>trails_b_z_score_x_bin</th>\n",
       "      <td>81.000</td>\n",
       "      <td>56.000</td>\n",
       "      <td>24.000</td>\n",
       "      <td>poly</td>\n",
       "      <td>500.000</td>\n",
       "      <td>0.569</td>\n",
       "      <td>[0.419, 0.72]</td>\n",
       "      <td>0.569</td>\n",
       "      <td>[0.314, 0.781]</td>\n",
       "      <td>0.569</td>\n",
       "      <td>[0.419, 0.72]</td>\n",
       "      <td>pca</td>\n",
       "      <td>0.004</td>\n",
       "    </tr>\n",
       "    <tr>\n",
       "      <th>vc_zscore_bin</th>\n",
       "      <td>90.000</td>\n",
       "      <td>62.000</td>\n",
       "      <td>27.000</td>\n",
       "      <td>rbf</td>\n",
       "      <td>500.000</td>\n",
       "      <td>0.946</td>\n",
       "      <td>[0.926, 0.963]</td>\n",
       "      <td>0.895</td>\n",
       "      <td>[0.857, 0.927]</td>\n",
       "      <td>0.946</td>\n",
       "      <td>[0.926, 0.963]</td>\n",
       "      <td>lle</td>\n",
       "      <td>-0.006</td>\n",
       "    </tr>\n",
       "  </tbody>\n",
       "</table>\n",
       "</div>"
      ],
      "text/plain": [
       "                                total_sample_size  train_sample_size  \\\n",
       "target                                                                 \n",
       "cvlt_b_zscore_bin                          30.000             21.000   \n",
       "cvlt_ldelay_recall_zscore_bin              37.000             25.000   \n",
       "cvlt_recognition_fp_zscore_bin             40.000             28.000   \n",
       "trails_a_z_score_bin                       59.000             41.000   \n",
       "trails_b_z_score_x_bin                     81.000             56.000   \n",
       "vc_zscore_bin                              90.000             62.000   \n",
       "\n",
       "                                test_sample_size svm_kernel  n_iterations  \\\n",
       "target                                                                      \n",
       "cvlt_b_zscore_bin                          9.000     linear       500.000   \n",
       "cvlt_ldelay_recall_zscore_bin             11.000    sigmoid       500.000   \n",
       "cvlt_recognition_fp_zscore_bin            12.000    sigmoid       500.000   \n",
       "trails_a_z_score_bin                      17.000    sigmoid       500.000   \n",
       "trails_b_z_score_x_bin                    24.000       poly       500.000   \n",
       "vc_zscore_bin                             27.000        rbf       500.000   \n",
       "\n",
       "                                svm_accuracy svm_accuracy_ci  svm_precision  \\\n",
       "target                                                                        \n",
       "cvlt_b_zscore_bin                      0.597  [0.333, 0.778]          0.603   \n",
       "cvlt_ldelay_recall_zscore_bin          0.834  [0.833, 0.833]          0.696   \n",
       "cvlt_recognition_fp_zscore_bin         0.670  [0.417, 0.917]          0.693   \n",
       "trails_a_z_score_bin                   0.680  [0.582, 0.778]          0.563   \n",
       "trails_b_z_score_x_bin                 0.569   [0.419, 0.72]          0.569   \n",
       "vc_zscore_bin                          0.946  [0.926, 0.963]          0.895   \n",
       "\n",
       "                               svm_precision_ci  svm_recall   svm_recall_ci  \\\n",
       "target                                                                        \n",
       "cvlt_b_zscore_bin                [0.278, 0.841]       0.597  [0.333, 0.778]   \n",
       "cvlt_ldelay_recall_zscore_bin    [0.694, 0.694]       0.834  [0.833, 0.833]   \n",
       "cvlt_recognition_fp_zscore_bin   [0.448, 0.927]       0.670  [0.417, 0.917]   \n",
       "trails_a_z_score_bin             [0.444, 0.833]       0.680  [0.582, 0.778]   \n",
       "trails_b_z_score_x_bin           [0.314, 0.781]       0.569   [0.419, 0.72]   \n",
       "vc_zscore_bin                    [0.857, 0.927]       0.946  [0.926, 0.963]   \n",
       "\n",
       "                               dim_redx  sil_score  \n",
       "target                                              \n",
       "cvlt_b_zscore_bin                   iso      0.029  \n",
       "cvlt_ldelay_recall_zscore_bin       pca      0.009  \n",
       "cvlt_recognition_fp_zscore_bin      pca      0.057  \n",
       "trails_a_z_score_bin                iso     -0.012  \n",
       "trails_b_z_score_x_bin              pca      0.004  \n",
       "vc_zscore_bin                       lle     -0.006  "
      ]
     },
     "execution_count": 65,
     "metadata": {},
     "output_type": "execute_result"
    }
   ],
   "source": [
    "results_best[((results_best['svm_accuracy']-results_n_best['svm_accuracy']) > 0) & (results_best['svm_accuracy'] > .5)]"
   ]
  },
  {
   "cell_type": "code",
   "execution_count": 66,
   "id": "f71af883",
   "metadata": {},
   "outputs": [
    {
     "data": {
      "text/plain": [
       "target\n",
       "cowat_zscore_bin                      NaN\n",
       "cvlt_b_zscore_bin                   0.003\n",
       "cvlt_ldelay_cue_recall_zscore_bin     NaN\n",
       "cvlt_ldelay_recall_zscore_bin       0.001\n",
       "cvlt_recognition_fp_zscore_bin      0.005\n",
       "cvlt_recognition_hits_zscore_bin      NaN\n",
       "cvlt_sdelay_cued_zscore_bin           NaN\n",
       "cvlt_sdelay_recall_zscore_bin         NaN\n",
       "cvlt_zscore_bin                       NaN\n",
       "ds_zscore_bin                         NaN\n",
       "pvt_fs_bin                            NaN\n",
       "pvt_rt_mean_bin                       NaN\n",
       "trails_a_z_score_bin                0.002\n",
       "trails_b_z_score_x_bin              0.001\n",
       "vc_zscore_bin                       0.001\n",
       "Name: svm_accuracy, dtype: float64"
      ]
     },
     "execution_count": 66,
     "metadata": {},
     "output_type": "execute_result"
    }
   ],
   "source": [
    "results_best['svm_accuracy']-results_n_best['svm_accuracy'][((results_best['svm_accuracy']-results_n_best['svm_accuracy']) > 0) & (results_best['svm_accuracy'] > .5)]"
   ]
  },
  {
   "cell_type": "code",
   "execution_count": 67,
   "id": "7818c019",
   "metadata": {},
   "outputs": [
    {
     "data": {
      "text/plain": [
       "target\n",
       "cowat_zscore_bin                      NaN\n",
       "cvlt_b_zscore_bin                   0.003\n",
       "cvlt_ldelay_cue_recall_zscore_bin     NaN\n",
       "cvlt_ldelay_recall_zscore_bin       0.002\n",
       "cvlt_recognition_fp_zscore_bin      0.011\n",
       "cvlt_recognition_hits_zscore_bin      NaN\n",
       "cvlt_sdelay_cued_zscore_bin           NaN\n",
       "cvlt_sdelay_recall_zscore_bin         NaN\n",
       "cvlt_zscore_bin                       NaN\n",
       "ds_zscore_bin                       0.015\n",
       "pvt_fs_bin                            NaN\n",
       "pvt_rt_mean_bin                       NaN\n",
       "trails_a_z_score_bin                0.012\n",
       "trails_b_z_score_x_bin                NaN\n",
       "vc_zscore_bin                       0.001\n",
       "Name: svm_precision, dtype: float64"
      ]
     },
     "execution_count": 67,
     "metadata": {},
     "output_type": "execute_result"
    }
   ],
   "source": [
    "results_best['svm_precision']-results_n_best['svm_precision'][((results_best['svm_precision']-results_n_best['svm_precision']) > 0) & (results_best['svm_precision'] > .5)]"
   ]
  },
  {
   "cell_type": "code",
   "execution_count": 68,
   "id": "fd6e2b58",
   "metadata": {},
   "outputs": [
    {
     "data": {
      "text/plain": [
       "target\n",
       "cowat_zscore_bin                      NaN\n",
       "cvlt_b_zscore_bin                   0.003\n",
       "cvlt_ldelay_cue_recall_zscore_bin     NaN\n",
       "cvlt_ldelay_recall_zscore_bin       0.001\n",
       "cvlt_recognition_fp_zscore_bin      0.005\n",
       "cvlt_recognition_hits_zscore_bin      NaN\n",
       "cvlt_sdelay_cued_zscore_bin           NaN\n",
       "cvlt_sdelay_recall_zscore_bin         NaN\n",
       "cvlt_zscore_bin                       NaN\n",
       "ds_zscore_bin                         NaN\n",
       "pvt_fs_bin                            NaN\n",
       "pvt_rt_mean_bin                       NaN\n",
       "trails_a_z_score_bin                0.002\n",
       "trails_b_z_score_x_bin              0.001\n",
       "vc_zscore_bin                       0.001\n",
       "Name: svm_recall, dtype: float64"
      ]
     },
     "execution_count": 68,
     "metadata": {},
     "output_type": "execute_result"
    }
   ],
   "source": [
    "results_best['svm_recall']-results_n_best['svm_recall'][((results_best['svm_recall']-results_n_best['svm_recall']) > 0) & (results_best['svm_recall'] > .5)]"
   ]
  },
  {
   "cell_type": "markdown",
   "id": "c4ae0283",
   "metadata": {},
   "source": [
    "Standard RAR measure takes a while to run so here it is commented out."
   ]
  },
  {
   "cell_type": "code",
   "execution_count": 69,
   "id": "56de1776",
   "metadata": {},
   "outputs": [],
   "source": [
    "# results_std = pd.DataFrame()\n",
    "# rardf = rar2.reset_index(drop=True)\n",
    "# print('RAR df', rardf.shape)\n",
    "# n_iterations = 500\n",
    "\n",
    "# for y in df[[col for col in df.columns if col.endswith('_bin')]][:1]:\n",
    "#     print(y)\n",
    "#     print(np.unique(df[y]))\n",
    "    \n",
    "#     na_idx = list(np.unique(list(np.where(df[y] == 'nan')[0]) + list(np.where(df[y].isnull())[0])))\n",
    "\n",
    "#     X = rardf.drop(index=na_idx).values\n",
    "#     y_true = df[y].drop(index=na_idx).values \n",
    "    \n",
    "#     print(len(na_idx))\n",
    "#     print(np.unique(y_true))\n",
    "\n",
    "#     try: \n",
    "#         result, stats, cis = bootstrap_svm(X, y_true, str(y), n_size, n_iterations, kernel_methods=kernel_methods)\n",
    "#         results_std = results_std.append(result)\n",
    "\n",
    "#     except Exception as e:\n",
    "#         print(e)\n",
    "                         \n"
   ]
  },
  {
   "cell_type": "code",
   "execution_count": 70,
   "id": "d072bbf8",
   "metadata": {},
   "outputs": [],
   "source": [
    "# acc_idx = results_std.groupby(['target'])['svm_accuracy'].transform(max) == results_std['svm_accuracy']\n",
    "# results_best_std = results_std[acc_idx].groupby('target').first()\n",
    "\n",
    "# results_best_std.reset_index().drop(['n_iterations'], axis=1).to_latex(results_dir + 'results_std.tex', index=None, float_format=\"%.2f\")\n",
    "# results_best_std.reset_index().drop(['n_iterations'], axis=1)"
   ]
  },
  {
   "cell_type": "code",
   "execution_count": 26,
   "id": "a8b39b3e",
   "metadata": {},
   "outputs": [],
   "source": [
    "# from astropy.table import Table\n",
    "# results_best = Table.read(results_dir + 'results.tex').to_pandas().set_index('target')\n",
    "# results_n_best = Table.read(results_dir + 'results_random.tex').to_pandas()\n",
    "# results_best_std = Table.read('/Users/mcmahonmc/Github/machine-learning-2021/final_project/results/results_std.tex').to_pandas().set_index('target')"
   ]
  },
  {
   "cell_type": "code",
   "execution_count": 76,
   "id": "609a45ed",
   "metadata": {},
   "outputs": [],
   "source": [
    "# results_best_std['svm_precision']-results_n_best['svm_precision'][((results_best_std['svm_accuracy']-results_n_best['svm_accuracy']) > 0) & (results_best['svm_accuracy'] > .5)]\n"
   ]
  },
  {
   "cell_type": "code",
   "execution_count": 77,
   "id": "f33e637f",
   "metadata": {},
   "outputs": [],
   "source": [
    "# results_best_std['svm_recall']-results_n_best['svm_recall'][((results_best_std['svm_accuracy']-results_n_best['svm_accuracy']) > 0) & (results_best['svm_accuracy'] > .5)]\n",
    "\n"
   ]
  },
  {
   "cell_type": "code",
   "execution_count": null,
   "id": "e15519de",
   "metadata": {},
   "outputs": [],
   "source": []
  }
 ],
 "metadata": {
  "kernelspec": {
   "display_name": "Python 3 (ipykernel)",
   "language": "python",
   "name": "python3"
  },
  "language_info": {
   "codemirror_mode": {
    "name": "ipython",
    "version": 3
   },
   "file_extension": ".py",
   "mimetype": "text/x-python",
   "name": "python",
   "nbconvert_exporter": "python",
   "pygments_lexer": "ipython3",
   "version": "3.9.6"
  }
 },
 "nbformat": 4,
 "nbformat_minor": 5
}
