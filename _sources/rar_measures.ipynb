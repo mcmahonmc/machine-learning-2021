{
 "cells": [
  {
   "cell_type": "markdown",
   "id": "16fcc0b9",
   "metadata": {},
   "source": [
    "# Standard rest-activity measure calculation"
   ]
  },
  {
   "cell_type": "code",
   "execution_count": 1,
   "id": "6b146fed",
   "metadata": {},
   "outputs": [],
   "source": [
    "import pandas as pd\n",
    "import numpy as np\n",
    "import glob\n",
    "\n",
    "import matplotlib.pyplot as plt\n",
    "from matplotlib.dates import WeekdayLocator\n",
    "import seaborn as sns"
   ]
  },
  {
   "cell_type": "code",
   "execution_count": 2,
   "id": "e4fdab12",
   "metadata": {},
   "outputs": [
    {
     "name": "stdout",
     "output_type": "stream",
     "text": [
      "actigraphy df\n",
      "(169, 125)\n"
     ]
    }
   ],
   "source": [
    "actdf = pd.read_csv('/Users/mcmahonmc/Github/machine-learning-2021/final_project/data/actigraphy_data_hourly_df.csv')\n",
    "print('actigraphy df')\n",
    "print(actdf.shape)"
   ]
  },
  {
   "cell_type": "code",
   "execution_count": 12,
   "id": "5e621e11",
   "metadata": {
    "scrolled": true
   },
   "outputs": [],
   "source": [
    "from wearables import fitcosinor, npmetrics\n",
    "from datetime import datetime\n",
    "\n",
    "rar = pd.DataFrame()\n",
    "\n",
    "for subject in actdf.columns:\n",
    "    \n",
    "    df = pd.DataFrame(actdf[subject][:-2]).set_index(pd.to_datetime(\n",
    "        pd.date_range(start = pd.to_datetime('2021-01-01 00:00:00'),\n",
    "                      end = pd.to_datetime('2021-01-01 00:00:00') + pd.Timedelta(days=7),\n",
    "                      freq='30S'),\n",
    "        format = '%Y-%m-%d %H:%M:%S'))\n",
    "    \n",
    "    df.columns = ['Activity']\n",
    "    \n",
    "    cr = np.array(fitcosinor.fitcosinor(df)[0].T.values).T[0]\n",
    "    nonp = npmetrics.np_metrics_all(df['Activity'])\n",
    "    \n",
    "    rar[subject] = np.concatenate((cr, nonp[:3]))\n",
    "    \n",
    "rar = rar.T\n",
    "rar.columns = ['actmin', 'amp', 'alpha', 'beta', 'phi', 'IS', 'IV', 'RA']\n",
    "rar"
   ]
  },
  {
   "cell_type": "code",
   "execution_count": 13,
   "id": "fd705347",
   "metadata": {},
   "outputs": [
    {
     "name": "stdout",
     "output_type": "stream",
     "text": [
      "(116, 8)\n"
     ]
    }
   ],
   "source": [
    "rar = pd.read_csv('/Users/mcmahonmc/Github/machine-learning-2021/final_project/rar_df.csv', index_col=0)\n",
    "\n",
    "drop_subs = [ int(subject) for subject in rar.index if str(subject) not in actdf.columns.values ]\n",
    "drop_subs\n",
    "\n",
    "rar2 = (rar[~rar.index.isin(drop_subs)])\n",
    "print(rar2.shape)"
   ]
  },
  {
   "cell_type": "code",
   "execution_count": 14,
   "id": "79c4888e",
   "metadata": {},
   "outputs": [
    {
     "data": {
      "text/plain": [
       "['duration_mean_active', 'total_ac_mean_active', 'sleep_time_mean_active']"
      ]
     },
     "execution_count": 14,
     "metadata": {},
     "output_type": "execute_result"
    }
   ],
   "source": [
    "[col for col in targets.columns if 'mean_active' in col]"
   ]
  },
  {
   "cell_type": "code",
   "execution_count": 15,
   "id": "3ad0c1aa",
   "metadata": {},
   "outputs": [
    {
     "data": {
      "text/plain": [
       "['duration_mean_sleep',\n",
       " 'total_ac_mean_sleep',\n",
       " 'onset_latency_mean_sleep',\n",
       " 'efficiency_mean_sleep',\n",
       " 'sleep_time_mean_sleep']"
      ]
     },
     "execution_count": 15,
     "metadata": {},
     "output_type": "execute_result"
    }
   ],
   "source": [
    "[col for col in targets.columns if 'mean_sleep' in col]"
   ]
  },
  {
   "cell_type": "code",
   "execution_count": 16,
   "id": "1bbcdd5d",
   "metadata": {},
   "outputs": [
    {
     "data": {
      "text/plain": [
       "<AxesSubplot:>"
      ]
     },
     "execution_count": 16,
     "metadata": {},
     "output_type": "execute_result"
    },
    {
     "data": {
      "image/png": "[encoded data removed]",
      "text/plain": [
       "<Figure size 432x288 with 2 Axes>"
      ]
     },
     "metadata": {
      "needs_background": "light"
     },
     "output_type": "display_data"
    }
   ],
   "source": [
    "rar2 = rar2.merge(targets[['total_ac_mean_active',\n",
    "                    'duration_mean_sleep', \n",
    "                    'total_ac_mean_sleep', \n",
    "                   'efficiency_mean_sleep',\n",
    "                   'sleep_time_mean_sleep',\n",
    "                   'sleep_time_sd_sleep',\n",
    "                   'onset_latency_mean_sleep']],\n",
    "          left_index=True, right_index=True)\n",
    "\n",
    "sns.heatmap(rar2.isnull(), cmap='terrain')"
   ]
  },
  {
   "cell_type": "code",
   "execution_count": 17,
   "id": "3c5820cf",
   "metadata": {},
   "outputs": [],
   "source": [
    "# rar.to_csv('/Users/mcmahonmc/Github/machine-learning-2021/final_project/rar_df.csv')"
   ]
  },
  {
   "cell_type": "code",
   "execution_count": 121,
   "id": "2c1baf6a",
   "metadata": {},
   "outputs": [],
   "source": [
    "rar = pd.read_csv('/Users/mcmahonmc/Github/machine-learning-2021/final_project/rar_df.csv')\n",
    "\n",
    "targets = pd.read_csv('/Users/mcmahonmc/Github/machine-learning-2021/final_project/target_data.csv')\n",
    "targets['edge_mean'] = targets[[x for x in targets.columns if x.startswith('edge_')]].mean(axis=1)"
   ]
  },
  {
   "cell_type": "code",
   "execution_count": 122,
   "id": "c6ac0c8a",
   "metadata": {},
   "outputs": [
    {
     "data": {
      "text/html": [
       "<div>\n",
       "<style scoped>\n",
       "    .dataframe tbody tr th:only-of-type {\n",
       "        vertical-align: middle;\n",
       "    }\n",
       "\n",
       "    .dataframe tbody tr th {\n",
       "        vertical-align: top;\n",
       "    }\n",
       "\n",
       "    .dataframe thead th {\n",
       "        text-align: right;\n",
       "    }\n",
       "</style>\n",
       "<table border=\"1\" class=\"dataframe\">\n",
       "  <thead>\n",
       "    <tr style=\"text-align: right;\">\n",
       "      <th></th>\n",
       "      <th>Unnamed: 0_x</th>\n",
       "      <th>actmin</th>\n",
       "      <th>amp</th>\n",
       "      <th>alpha</th>\n",
       "      <th>beta</th>\n",
       "      <th>phi</th>\n",
       "      <th>IS</th>\n",
       "      <th>IV</th>\n",
       "      <th>RA</th>\n",
       "      <th>Unnamed: 0_y</th>\n",
       "      <th>...</th>\n",
       "      <th>Left.hippocampal.fissure</th>\n",
       "      <th>Left.Whole_hippocampal_body</th>\n",
       "      <th>Left.Whole_hippocampal_head</th>\n",
       "      <th>Left.Whole_hippocampus</th>\n",
       "      <th>Right.Hippocampal_tail</th>\n",
       "      <th>Right.hippocampal.fissure</th>\n",
       "      <th>Right.Whole_hippocampal_body</th>\n",
       "      <th>Right.Whole_hippocampal_head</th>\n",
       "      <th>Right.Whole_hippocampus</th>\n",
       "      <th>cc_fa</th>\n",
       "    </tr>\n",
       "  </thead>\n",
       "  <tbody>\n",
       "    <tr>\n",
       "      <th>0</th>\n",
       "      <td>30004</td>\n",
       "      <td>0.696391</td>\n",
       "      <td>2.000000</td>\n",
       "      <td>-0.839879</td>\n",
       "      <td>12.174420</td>\n",
       "      <td>15.700554</td>\n",
       "      <td>0.237301</td>\n",
       "      <td>0.497090</td>\n",
       "      <td>0.978493</td>\n",
       "      <td>0</td>\n",
       "      <td>...</td>\n",
       "      <td>103.610701</td>\n",
       "      <td>1044.195719</td>\n",
       "      <td>1398.964955</td>\n",
       "      <td>2907.251396</td>\n",
       "      <td>468.379186</td>\n",
       "      <td>106.077142</td>\n",
       "      <td>1020.857892</td>\n",
       "      <td>1441.995366</td>\n",
       "      <td>2931.232444</td>\n",
       "      <td>0.582804</td>\n",
       "    </tr>\n",
       "    <tr>\n",
       "      <th>1</th>\n",
       "      <td>30008</td>\n",
       "      <td>1.047358</td>\n",
       "      <td>1.552863</td>\n",
       "      <td>-0.853070</td>\n",
       "      <td>325.423752</td>\n",
       "      <td>16.600185</td>\n",
       "      <td>0.261227</td>\n",
       "      <td>0.524768</td>\n",
       "      <td>0.961466</td>\n",
       "      <td>1</td>\n",
       "      <td>...</td>\n",
       "      <td>144.813418</td>\n",
       "      <td>1204.042983</td>\n",
       "      <td>1634.228393</td>\n",
       "      <td>3445.750080</td>\n",
       "      <td>618.218806</td>\n",
       "      <td>145.052717</td>\n",
       "      <td>1213.668913</td>\n",
       "      <td>1635.260923</td>\n",
       "      <td>3467.148642</td>\n",
       "      <td>0.559800</td>\n",
       "    </tr>\n",
       "    <tr>\n",
       "      <th>2</th>\n",
       "      <td>30009</td>\n",
       "      <td>1.088250</td>\n",
       "      <td>1.621375</td>\n",
       "      <td>-0.839957</td>\n",
       "      <td>385.754408</td>\n",
       "      <td>14.813229</td>\n",
       "      <td>0.236853</td>\n",
       "      <td>0.194339</td>\n",
       "      <td>0.965710</td>\n",
       "      <td>2</td>\n",
       "      <td>...</td>\n",
       "      <td>136.160494</td>\n",
       "      <td>1192.518585</td>\n",
       "      <td>1599.914291</td>\n",
       "      <td>3328.766941</td>\n",
       "      <td>543.045786</td>\n",
       "      <td>146.643748</td>\n",
       "      <td>1232.700746</td>\n",
       "      <td>1807.269141</td>\n",
       "      <td>3583.015674</td>\n",
       "      <td>0.601367</td>\n",
       "    </tr>\n",
       "    <tr>\n",
       "      <th>3</th>\n",
       "      <td>30012</td>\n",
       "      <td>1.384584</td>\n",
       "      <td>1.437337</td>\n",
       "      <td>-0.613403</td>\n",
       "      <td>7.015407</td>\n",
       "      <td>15.689278</td>\n",
       "      <td>0.268342</td>\n",
       "      <td>0.299328</td>\n",
       "      <td>0.954806</td>\n",
       "      <td>3</td>\n",
       "      <td>...</td>\n",
       "      <td>161.352783</td>\n",
       "      <td>1288.481710</td>\n",
       "      <td>1835.814889</td>\n",
       "      <td>3751.599484</td>\n",
       "      <td>663.701747</td>\n",
       "      <td>133.943847</td>\n",
       "      <td>1328.224316</td>\n",
       "      <td>1944.852320</td>\n",
       "      <td>3936.778383</td>\n",
       "      <td>0.587033</td>\n",
       "    </tr>\n",
       "    <tr>\n",
       "      <th>4</th>\n",
       "      <td>30015</td>\n",
       "      <td>1.070629</td>\n",
       "      <td>1.605177</td>\n",
       "      <td>-0.690900</td>\n",
       "      <td>419.617253</td>\n",
       "      <td>14.554844</td>\n",
       "      <td>0.214801</td>\n",
       "      <td>0.286109</td>\n",
       "      <td>0.974820</td>\n",
       "      <td>4</td>\n",
       "      <td>...</td>\n",
       "      <td>148.140462</td>\n",
       "      <td>1356.785914</td>\n",
       "      <td>1886.936232</td>\n",
       "      <td>3894.608270</td>\n",
       "      <td>704.116073</td>\n",
       "      <td>154.378972</td>\n",
       "      <td>1418.849716</td>\n",
       "      <td>1858.631846</td>\n",
       "      <td>3981.597634</td>\n",
       "      <td>0.586247</td>\n",
       "    </tr>\n",
       "    <tr>\n",
       "      <th>...</th>\n",
       "      <td>...</td>\n",
       "      <td>...</td>\n",
       "      <td>...</td>\n",
       "      <td>...</td>\n",
       "      <td>...</td>\n",
       "      <td>...</td>\n",
       "      <td>...</td>\n",
       "      <td>...</td>\n",
       "      <td>...</td>\n",
       "      <td>...</td>\n",
       "      <td>...</td>\n",
       "      <td>...</td>\n",
       "      <td>...</td>\n",
       "      <td>...</td>\n",
       "      <td>...</td>\n",
       "      <td>...</td>\n",
       "      <td>...</td>\n",
       "      <td>...</td>\n",
       "      <td>...</td>\n",
       "      <td>...</td>\n",
       "      <td>...</td>\n",
       "    </tr>\n",
       "    <tr>\n",
       "      <th>111</th>\n",
       "      <td>40855</td>\n",
       "      <td>0.968828</td>\n",
       "      <td>1.611690</td>\n",
       "      <td>-0.441357</td>\n",
       "      <td>278.707630</td>\n",
       "      <td>15.357639</td>\n",
       "      <td>0.281765</td>\n",
       "      <td>0.393956</td>\n",
       "      <td>0.929667</td>\n",
       "      <td>111</td>\n",
       "      <td>...</td>\n",
       "      <td>170.593990</td>\n",
       "      <td>1076.777270</td>\n",
       "      <td>1435.407917</td>\n",
       "      <td>3107.817477</td>\n",
       "      <td>635.886503</td>\n",
       "      <td>175.417475</td>\n",
       "      <td>1094.449991</td>\n",
       "      <td>1575.843183</td>\n",
       "      <td>3306.179677</td>\n",
       "      <td>NaN</td>\n",
       "    </tr>\n",
       "    <tr>\n",
       "      <th>112</th>\n",
       "      <td>40859</td>\n",
       "      <td>1.762660</td>\n",
       "      <td>0.910938</td>\n",
       "      <td>-0.580580</td>\n",
       "      <td>435.862944</td>\n",
       "      <td>14.358228</td>\n",
       "      <td>0.260628</td>\n",
       "      <td>0.715527</td>\n",
       "      <td>0.881364</td>\n",
       "      <td>112</td>\n",
       "      <td>...</td>\n",
       "      <td>134.776211</td>\n",
       "      <td>1083.616531</td>\n",
       "      <td>1292.730790</td>\n",
       "      <td>2990.671483</td>\n",
       "      <td>588.987373</td>\n",
       "      <td>131.490185</td>\n",
       "      <td>1022.651680</td>\n",
       "      <td>1264.980072</td>\n",
       "      <td>2876.619125</td>\n",
       "      <td>NaN</td>\n",
       "    </tr>\n",
       "    <tr>\n",
       "      <th>113</th>\n",
       "      <td>40861</td>\n",
       "      <td>2.000000</td>\n",
       "      <td>0.557801</td>\n",
       "      <td>-0.612585</td>\n",
       "      <td>10.996928</td>\n",
       "      <td>11.843457</td>\n",
       "      <td>0.211993</td>\n",
       "      <td>0.442061</td>\n",
       "      <td>0.719981</td>\n",
       "      <td>113</td>\n",
       "      <td>...</td>\n",
       "      <td>194.849007</td>\n",
       "      <td>1233.935858</td>\n",
       "      <td>1884.858216</td>\n",
       "      <td>3705.570884</td>\n",
       "      <td>606.106704</td>\n",
       "      <td>199.832531</td>\n",
       "      <td>1257.263536</td>\n",
       "      <td>1893.275499</td>\n",
       "      <td>3756.645739</td>\n",
       "      <td>0.488233</td>\n",
       "    </tr>\n",
       "    <tr>\n",
       "      <th>114</th>\n",
       "      <td>40876</td>\n",
       "      <td>0.601127</td>\n",
       "      <td>2.000000</td>\n",
       "      <td>-0.899820</td>\n",
       "      <td>8.769209</td>\n",
       "      <td>16.459194</td>\n",
       "      <td>0.259224</td>\n",
       "      <td>0.467280</td>\n",
       "      <td>0.885357</td>\n",
       "      <td>114</td>\n",
       "      <td>...</td>\n",
       "      <td>NaN</td>\n",
       "      <td>NaN</td>\n",
       "      <td>NaN</td>\n",
       "      <td>NaN</td>\n",
       "      <td>NaN</td>\n",
       "      <td>NaN</td>\n",
       "      <td>NaN</td>\n",
       "      <td>NaN</td>\n",
       "      <td>NaN</td>\n",
       "      <td>0.524456</td>\n",
       "    </tr>\n",
       "    <tr>\n",
       "      <th>115</th>\n",
       "      <td>40878</td>\n",
       "      <td>1.154834</td>\n",
       "      <td>1.431509</td>\n",
       "      <td>-0.865762</td>\n",
       "      <td>10.464622</td>\n",
       "      <td>14.759844</td>\n",
       "      <td>0.254082</td>\n",
       "      <td>0.611118</td>\n",
       "      <td>0.878301</td>\n",
       "      <td>115</td>\n",
       "      <td>...</td>\n",
       "      <td>173.884635</td>\n",
       "      <td>957.505865</td>\n",
       "      <td>1449.357878</td>\n",
       "      <td>2856.082443</td>\n",
       "      <td>453.440177</td>\n",
       "      <td>156.191287</td>\n",
       "      <td>948.369133</td>\n",
       "      <td>1403.563066</td>\n",
       "      <td>2805.372376</td>\n",
       "      <td>0.511366</td>\n",
       "    </tr>\n",
       "  </tbody>\n",
       "</table>\n",
       "<p>116 rows × 289 columns</p>\n",
       "</div>"
      ],
      "text/plain": [
       "     Unnamed: 0_x    actmin       amp     alpha        beta        phi  \\\n",
       "0           30004  0.696391  2.000000 -0.839879   12.174420  15.700554   \n",
       "1           30008  1.047358  1.552863 -0.853070  325.423752  16.600185   \n",
       "2           30009  1.088250  1.621375 -0.839957  385.754408  14.813229   \n",
       "3           30012  1.384584  1.437337 -0.613403    7.015407  15.689278   \n",
       "4           30015  1.070629  1.605177 -0.690900  419.617253  14.554844   \n",
       "..            ...       ...       ...       ...         ...        ...   \n",
       "111         40855  0.968828  1.611690 -0.441357  278.707630  15.357639   \n",
       "112         40859  1.762660  0.910938 -0.580580  435.862944  14.358228   \n",
       "113         40861  2.000000  0.557801 -0.612585   10.996928  11.843457   \n",
       "114         40876  0.601127  2.000000 -0.899820    8.769209  16.459194   \n",
       "115         40878  1.154834  1.431509 -0.865762   10.464622  14.759844   \n",
       "\n",
       "           IS        IV        RA  Unnamed: 0_y  ...  \\\n",
       "0    0.237301  0.497090  0.978493             0  ...   \n",
       "1    0.261227  0.524768  0.961466             1  ...   \n",
       "2    0.236853  0.194339  0.965710             2  ...   \n",
       "3    0.268342  0.299328  0.954806             3  ...   \n",
       "4    0.214801  0.286109  0.974820             4  ...   \n",
       "..        ...       ...       ...           ...  ...   \n",
       "111  0.281765  0.393956  0.929667           111  ...   \n",
       "112  0.260628  0.715527  0.881364           112  ...   \n",
       "113  0.211993  0.442061  0.719981           113  ...   \n",
       "114  0.259224  0.467280  0.885357           114  ...   \n",
       "115  0.254082  0.611118  0.878301           115  ...   \n",
       "\n",
       "     Left.hippocampal.fissure  Left.Whole_hippocampal_body  \\\n",
       "0                  103.610701                  1044.195719   \n",
       "1                  144.813418                  1204.042983   \n",
       "2                  136.160494                  1192.518585   \n",
       "3                  161.352783                  1288.481710   \n",
       "4                  148.140462                  1356.785914   \n",
       "..                        ...                          ...   \n",
       "111                170.593990                  1076.777270   \n",
       "112                134.776211                  1083.616531   \n",
       "113                194.849007                  1233.935858   \n",
       "114                       NaN                          NaN   \n",
       "115                173.884635                   957.505865   \n",
       "\n",
       "    Left.Whole_hippocampal_head  Left.Whole_hippocampus  \\\n",
       "0                   1398.964955             2907.251396   \n",
       "1                   1634.228393             3445.750080   \n",
       "2                   1599.914291             3328.766941   \n",
       "3                   1835.814889             3751.599484   \n",
       "4                   1886.936232             3894.608270   \n",
       "..                          ...                     ...   \n",
       "111                 1435.407917             3107.817477   \n",
       "112                 1292.730790             2990.671483   \n",
       "113                 1884.858216             3705.570884   \n",
       "114                         NaN                     NaN   \n",
       "115                 1449.357878             2856.082443   \n",
       "\n",
       "     Right.Hippocampal_tail Right.hippocampal.fissure  \\\n",
       "0                468.379186                106.077142   \n",
       "1                618.218806                145.052717   \n",
       "2                543.045786                146.643748   \n",
       "3                663.701747                133.943847   \n",
       "4                704.116073                154.378972   \n",
       "..                      ...                       ...   \n",
       "111              635.886503                175.417475   \n",
       "112              588.987373                131.490185   \n",
       "113              606.106704                199.832531   \n",
       "114                     NaN                       NaN   \n",
       "115              453.440177                156.191287   \n",
       "\n",
       "     Right.Whole_hippocampal_body  Right.Whole_hippocampal_head  \\\n",
       "0                     1020.857892                   1441.995366   \n",
       "1                     1213.668913                   1635.260923   \n",
       "2                     1232.700746                   1807.269141   \n",
       "3                     1328.224316                   1944.852320   \n",
       "4                     1418.849716                   1858.631846   \n",
       "..                            ...                           ...   \n",
       "111                   1094.449991                   1575.843183   \n",
       "112                   1022.651680                   1264.980072   \n",
       "113                   1257.263536                   1893.275499   \n",
       "114                           NaN                           NaN   \n",
       "115                    948.369133                   1403.563066   \n",
       "\n",
       "     Right.Whole_hippocampus     cc_fa  \n",
       "0                2931.232444  0.582804  \n",
       "1                3467.148642  0.559800  \n",
       "2                3583.015674  0.601367  \n",
       "3                3936.778383  0.587033  \n",
       "4                3981.597634  0.586247  \n",
       "..                       ...       ...  \n",
       "111              3306.179677       NaN  \n",
       "112              2876.619125       NaN  \n",
       "113              3756.645739  0.488233  \n",
       "114                      NaN  0.524456  \n",
       "115              2805.372376  0.511366  \n",
       "\n",
       "[116 rows x 289 columns]"
      ]
     },
     "execution_count": 122,
     "metadata": {},
     "output_type": "execute_result"
    }
   ],
   "source": [
    "pd.merge(rar, targets, left_on = 'Unnamed: 0', right_on = 'subject')"
   ]
  },
  {
   "cell_type": "code",
   "execution_count": 16,
   "id": "756a2912",
   "metadata": {},
   "outputs": [
    {
     "data": {
      "text/plain": [
       "['duration_mean_active', 'total_ac_mean_active', 'sleep_time_mean_active']"
      ]
     },
     "execution_count": 16,
     "metadata": {},
     "output_type": "execute_result"
    }
   ],
   "source": [
    "[col for col in targets.columns if 'mean_active' in col]"
   ]
  },
  {
   "cell_type": "code",
   "execution_count": 126,
   "id": "15210b25",
   "metadata": {},
   "outputs": [
    {
     "data": {
      "text/plain": [
       "<AxesSubplot:>"
      ]
     },
     "execution_count": 126,
     "metadata": {},
     "output_type": "execute_result"
    },
    {
     "data": {
      "image/png": "[encoded data removed]",
      "text/plain": [
       "<Figure size 432x288 with 2 Axes>"
      ]
     },
     "metadata": {
      "needs_background": "light"
     },
     "output_type": "display_data"
    }
   ],
   "source": [
    "corr = pd.merge(rar, targets[[col for col in targets.columns if 'z_score' in col] +\n",
    "                                   [col for col in targets.columns if 'zscore' in col] + \n",
    "                             ['subject']],\n",
    "                left_on = 'Unnamed: 0', right_on = 'subject').drop(['subject', 'Unnamed: 0'], axis=1).corr()\n",
    "mask = np.triu(np.ones_like(corr, dtype=bool))\n",
    "cmap = sns.diverging_palette(230, 20, as_cmap=True)\n",
    "sns.heatmap(corr[np.abs(corr) > 0.2], mask=mask, cmap=cmap, vmax=.3, center=0,\n",
    "            square=True, linewidths=.5, cbar_kws={\"shrink\": .5})"
   ]
  },
  {
   "cell_type": "code",
   "execution_count": null,
   "id": "0cfedfc5",
   "metadata": {},
   "outputs": [],
   "source": []
  }
 ],
 "metadata": {
  "kernelspec": {
   "display_name": "Python 3 (ipykernel)",
   "language": "python",
   "name": "python3"
  },
  "language_info": {
   "codemirror_mode": {
    "name": "ipython",
    "version": 3
   },
   "file_extension": ".py",
   "mimetype": "text/x-python",
   "name": "python",
   "nbconvert_exporter": "python",
   "pygments_lexer": "ipython3",
   "version": "3.9.6"
  }
 },
 "nbformat": 4,
 "nbformat_minor": 5
}
